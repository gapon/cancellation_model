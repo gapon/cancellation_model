{
 "cells": [
  {
   "cell_type": "code",
   "execution_count": 10,
   "metadata": {
    "scrolled": true
   },
   "outputs": [
    {
     "name": "stdout",
     "output_type": "stream",
     "text": [
      "<class 'pandas.core.frame.DataFrame'>\n",
      "RangeIndex: 51761 entries, 0 to 51760\n",
      "Data columns (total 35 columns):\n",
      "order_id                             51761 non-null int64\n",
      "total_cents                          51761 non-null int64\n",
      "subtotal_cents                       51761 non-null int64\n",
      "discount                             51761 non-null int64\n",
      "discount_prc                         51761 non-null float64\n",
      "cash_flg                             51761 non-null int64\n",
      "auto_flg                             51761 non-null int64\n",
      "dow                                  51761 non-null int64\n",
      "hot                                  51761 non-null int64\n",
      "additionals_num                      51761 non-null int64\n",
      "day_slot_flg                         51761 non-null int64\n",
      "has_comment                          51761 non-null int64\n",
      "subscription_flg                     51761 non-null int64\n",
      "lat                                  51761 non-null float64\n",
      "lng                                  51761 non-null float64\n",
      "creation_start_hours                 51761 non-null int64\n",
      "cancel                               51761 non-null int64\n",
      "paid_all                             51761 non-null int64\n",
      "canceled_all_nt                      51761 non-null int64\n",
      "canceled_all_nt_share                51761 non-null float64\n",
      "paid_16d                             51761 non-null int64\n",
      "paid_30d                             51761 non-null int64\n",
      "paid_60d                             51761 non-null int64\n",
      "canceled_16d_nt                      51761 non-null int64\n",
      "canceled_30d_nt                      51761 non-null int64\n",
      "canceled_60d_nt                      51761 non-null int64\n",
      "shifts_num                           51761 non-null float64\n",
      "canceled_onetime_nt                  51761 non-null int64\n",
      "days_since_last_cancel_all_nt        51761 non-null float64\n",
      "days_since_last_cancel_onetime_nt    51761 non-null float64\n",
      "days_since_last_paid_order           51761 non-null float64\n",
      "dow_paid                             51761 non-null int64\n",
      "dow_canceled                         51761 non-null int64\n",
      "dow_paid_share                       51761 non-null float64\n",
      "dow_all_paid_share                   51761 non-null float64\n",
      "dtypes: float64(10), int64(25)\n",
      "memory usage: 13.8 MB\n",
      "None\n"
     ]
    }
   ],
   "source": [
    "# https://jessesw.com/XG-Boost/\n",
    "# https://www.dataiku.com/learn/guide/code/python/advanced-xgboost-tuning.html Using Sparce Matrix\n",
    "import xgboost as xgb\n",
    "import pandas as pd\n",
    "from sklearn.grid_search import GridSearchCV\n",
    "from sklearn.model_selection import KFold\n",
    "from sklearn.metrics import roc_auc_score\n",
    "\n",
    "\n",
    "# train data\n",
    "data = pd.read_csv('train/train_small.csv', header = 0)\n",
    "data = data.fillna(0)\n",
    "print(data.info())\n",
    "X = data.drop(['order_id','cancel', 'dow'], axis=1)\n",
    "y = data['cancel']\n",
    "\n",
    "folds = 5\n",
    "kf = KFold(folds, shuffle = True, random_state = 42)\n",
    "\n",
    "#for train_index, test_index in kf.split(X):\n",
    "#    print(\"TRAIN:\", train_index, \"TEST:\", test_index)\n",
    "#    X_train, X_val = X.iloc[train_index], X.iloc[test_index]\n",
    "#    y_train, y_val = y[train_index], y[test_index]\n",
    "\n",
    "\n",
    "train_indeces, val_indeces = next(kf.split(y))\n",
    "\n",
    "X_train, y_train = X.iloc[train_indeces], y[train_indeces]\n",
    "X_val, y_val = X.iloc[val_indeces], y[val_indeces]\n",
    "\n",
    "dtrain = xgb.DMatrix(X_train, label=y_train)\n",
    "dval = xgb.DMatrix(X_val, label=y_val)\n",
    "# del(data, X, y)\n",
    "\n",
    "# test data\n",
    "test_data = pd.read_csv('test/test-20-29-jun.csv', header = 0)\n",
    "X_test = test_data.drop(['order_id','cancel', 'dow'], axis=1)\n",
    "y_test = test_data['cancel']\n",
    "dtest = xgb.DMatrix(X_test, label=y_test)\n",
    "#del(test_data, X_test, y_test)"
   ]
  },
  {
   "cell_type": "markdown",
   "metadata": {},
   "source": [
    "# Grid Search"
   ]
  },
  {
   "cell_type": "code",
   "execution_count": 25,
   "metadata": {},
   "outputs": [],
   "source": [
    "cv_params = {\n",
    "    'max_depth': [6],\n",
    "    'min_child_weight': [1,3]\n",
    "}\n",
    "# ind_params = {'objective': 'binary:logistic', 'n_estimators': 100}\n",
    "ind_params = {\n",
    "    'learning_rate': 0.2,\n",
    "    'n_estimators': 1000,\n",
    "    'seed':0,\n",
    "    'subsample': 0.8,\n",
    "    'colsample_bytree': 0.8,\n",
    "    'objective': 'binary:logistic'}\n",
    "\n",
    "\n",
    "optimized_GBM = GridSearchCV(xgb.XGBClassifier(**ind_params), cv_params, scoring = 'roc_auc', cv = 3, n_jobs = 1) \n",
    "# Optimize for accuracy since that is the metric used in the Adult Data Set notation"
   ]
  },
  {
   "cell_type": "code",
   "execution_count": 26,
   "metadata": {},
   "outputs": [
    {
     "name": "stdout",
     "output_type": "stream",
     "text": [
      "CPU times: user 9min 12s, sys: 17.1 s, total: 9min 29s\n",
      "Wall time: 2min 51s\n"
     ]
    },
    {
     "data": {
      "text/plain": [
       "GridSearchCV(cv=3, error_score='raise',\n",
       "       estimator=XGBClassifier(base_score=0.5, colsample_bylevel=1, colsample_bytree=0.8,\n",
       "       gamma=0, learning_rate=0.2, max_delta_step=0, max_depth=3,\n",
       "       min_child_weight=1, missing=None, n_estimators=1000, nthread=-1,\n",
       "       objective='binary:logistic', reg_alpha=0, reg_lambda=1,\n",
       "       scale_pos_weight=1, seed=0, silent=True, subsample=0.8),\n",
       "       fit_params={}, iid=True, n_jobs=1,\n",
       "       param_grid={'min_child_weight': [1, 3], 'max_depth': [6]},\n",
       "       pre_dispatch='2*n_jobs', refit=True, scoring='roc_auc', verbose=0)"
      ]
     },
     "execution_count": 26,
     "metadata": {},
     "output_type": "execute_result"
    }
   ],
   "source": [
    "%%time\n",
    "optimized_GBM.fit(X, y)"
   ]
  },
  {
   "cell_type": "code",
   "execution_count": 27,
   "metadata": {},
   "outputs": [
    {
     "data": {
      "text/plain": [
       "[mean: 0.74567, std: 0.03257, params: {'min_child_weight': 1, 'max_depth': 6},\n",
       " mean: 0.74677, std: 0.03692, params: {'min_child_weight': 3, 'max_depth': 6}]"
      ]
     },
     "execution_count": 27,
     "metadata": {},
     "output_type": "execute_result"
    }
   ],
   "source": [
    "optimized_GBM.grid_scores_"
   ]
  },
  {
   "cell_type": "code",
   "execution_count": 28,
   "metadata": {},
   "outputs": [
    {
     "name": "stdout",
     "output_type": "stream",
     "text": [
      "0.743831966748\n"
     ]
    }
   ],
   "source": [
    "y_pred = optimized_GBM.predict(X_test)\n",
    "print(roc_auc_score(y_test, y_pred))"
   ]
  },
  {
   "cell_type": "markdown",
   "metadata": {},
   "source": [
    "# Early Stopping"
   ]
  },
  {
   "cell_type": "code",
   "execution_count": 14,
   "metadata": {},
   "outputs": [
    {
     "name": "stdout",
     "output_type": "stream",
     "text": [
      "[0]\ttrain-auc:0.769996\teval-auc:0.77128\n",
      "Multiple eval metrics have been passed: 'eval-auc' will be used for early stopping.\n",
      "\n",
      "Will train until eval-auc hasn't improved in 10 rounds.\n",
      "[1]\ttrain-auc:0.786751\teval-auc:0.786452\n",
      "[2]\ttrain-auc:0.790913\teval-auc:0.787096\n",
      "[3]\ttrain-auc:0.79555\teval-auc:0.792341\n",
      "[4]\ttrain-auc:0.799514\teval-auc:0.795705\n",
      "[5]\ttrain-auc:0.802876\teval-auc:0.796253\n",
      "[6]\ttrain-auc:0.806986\teval-auc:0.798101\n",
      "[7]\ttrain-auc:0.808066\teval-auc:0.798789\n",
      "[8]\ttrain-auc:0.810802\teval-auc:0.801053\n",
      "[9]\ttrain-auc:0.812912\teval-auc:0.802281\n",
      "[10]\ttrain-auc:0.814638\teval-auc:0.803011\n",
      "[11]\ttrain-auc:0.816057\teval-auc:0.803993\n",
      "[12]\ttrain-auc:0.818078\teval-auc:0.804953\n",
      "[13]\ttrain-auc:0.819539\teval-auc:0.805835\n",
      "[14]\ttrain-auc:0.820471\teval-auc:0.806724\n",
      "[15]\ttrain-auc:0.822636\teval-auc:0.807712\n",
      "[16]\ttrain-auc:0.824009\teval-auc:0.807739\n",
      "[17]\ttrain-auc:0.82517\teval-auc:0.808164\n",
      "[18]\ttrain-auc:0.82629\teval-auc:0.809013\n",
      "[19]\ttrain-auc:0.82743\teval-auc:0.810138\n",
      "[20]\ttrain-auc:0.828357\teval-auc:0.810758\n",
      "[21]\ttrain-auc:0.829117\teval-auc:0.811195\n",
      "[22]\ttrain-auc:0.830181\teval-auc:0.811756\n",
      "[23]\ttrain-auc:0.830986\teval-auc:0.811962\n",
      "[24]\ttrain-auc:0.831662\teval-auc:0.812544\n",
      "[25]\ttrain-auc:0.832381\teval-auc:0.81292\n",
      "[26]\ttrain-auc:0.833046\teval-auc:0.813046\n",
      "[27]\ttrain-auc:0.833513\teval-auc:0.813107\n",
      "[28]\ttrain-auc:0.834693\teval-auc:0.813309\n",
      "[29]\ttrain-auc:0.835351\teval-auc:0.813542\n",
      "[30]\ttrain-auc:0.835814\teval-auc:0.813677\n",
      "[31]\ttrain-auc:0.836502\teval-auc:0.814144\n",
      "[32]\ttrain-auc:0.83744\teval-auc:0.814777\n",
      "[33]\ttrain-auc:0.837696\teval-auc:0.814968\n",
      "[34]\ttrain-auc:0.838826\teval-auc:0.81529\n",
      "[35]\ttrain-auc:0.839553\teval-auc:0.815534\n",
      "[36]\ttrain-auc:0.840334\teval-auc:0.815912\n",
      "[37]\ttrain-auc:0.84055\teval-auc:0.816034\n",
      "[38]\ttrain-auc:0.841277\teval-auc:0.816373\n",
      "[39]\ttrain-auc:0.841703\teval-auc:0.816592\n",
      "[40]\ttrain-auc:0.842239\teval-auc:0.816527\n",
      "[41]\ttrain-auc:0.842835\teval-auc:0.816644\n",
      "[42]\ttrain-auc:0.843353\teval-auc:0.816848\n",
      "[43]\ttrain-auc:0.843563\teval-auc:0.817031\n",
      "[44]\ttrain-auc:0.843979\teval-auc:0.817231\n",
      "[45]\ttrain-auc:0.844224\teval-auc:0.817188\n",
      "[46]\ttrain-auc:0.844422\teval-auc:0.817228\n",
      "[47]\ttrain-auc:0.844966\teval-auc:0.817248\n",
      "[48]\ttrain-auc:0.845446\teval-auc:0.817485\n",
      "[49]\ttrain-auc:0.845993\teval-auc:0.817389\n",
      "[50]\ttrain-auc:0.846127\teval-auc:0.817409\n",
      "[51]\ttrain-auc:0.84657\teval-auc:0.817413\n",
      "[52]\ttrain-auc:0.847304\teval-auc:0.817544\n",
      "[53]\ttrain-auc:0.847975\teval-auc:0.817518\n",
      "[54]\ttrain-auc:0.848418\teval-auc:0.817837\n",
      "[55]\ttrain-auc:0.848511\teval-auc:0.817794\n",
      "[56]\ttrain-auc:0.848645\teval-auc:0.81778\n",
      "[57]\ttrain-auc:0.849288\teval-auc:0.817903\n",
      "[58]\ttrain-auc:0.849942\teval-auc:0.817975\n",
      "[59]\ttrain-auc:0.8502\teval-auc:0.818138\n",
      "[60]\ttrain-auc:0.85053\teval-auc:0.817963\n",
      "[61]\ttrain-auc:0.850802\teval-auc:0.81829\n",
      "[62]\ttrain-auc:0.85119\teval-auc:0.818334\n",
      "[63]\ttrain-auc:0.851588\teval-auc:0.818253\n",
      "[64]\ttrain-auc:0.852071\teval-auc:0.818355\n",
      "[65]\ttrain-auc:0.852682\teval-auc:0.818262\n",
      "[66]\ttrain-auc:0.853189\teval-auc:0.818296\n",
      "[67]\ttrain-auc:0.853669\teval-auc:0.81854\n",
      "[68]\ttrain-auc:0.853871\teval-auc:0.818481\n",
      "[69]\ttrain-auc:0.854119\teval-auc:0.818501\n",
      "[70]\ttrain-auc:0.854686\teval-auc:0.818647\n",
      "[71]\ttrain-auc:0.854761\teval-auc:0.818603\n",
      "[72]\ttrain-auc:0.854933\teval-auc:0.818575\n",
      "[73]\ttrain-auc:0.855088\teval-auc:0.818528\n",
      "[74]\ttrain-auc:0.855234\teval-auc:0.818554\n",
      "[75]\ttrain-auc:0.855345\teval-auc:0.818546\n",
      "[76]\ttrain-auc:0.855396\teval-auc:0.81853\n",
      "[77]\ttrain-auc:0.855843\teval-auc:0.81843\n",
      "[78]\ttrain-auc:0.856108\teval-auc:0.818415\n",
      "[79]\ttrain-auc:0.85616\teval-auc:0.818336\n",
      "[80]\ttrain-auc:0.856269\teval-auc:0.818304\n",
      "Stopping. Best iteration:\n",
      "[70]\ttrain-auc:0.854686\teval-auc:0.818647\n",
      "\n",
      "0.824117140059\n"
     ]
    }
   ],
   "source": [
    "# specify parameters via map\n",
    "param = {'max_depth':5, 'eta':0.2, 'silent':0, 'objective':'binary:logistic' }\n",
    "param['eval_metric'] = 'auc'\n",
    "evallist  = [(dtrain,'train'), (dval,'eval')]\n",
    "num_round = 300\n",
    "\n",
    "bst = xgb.train(param, dtrain, num_round, evallist, early_stopping_rounds=10)\n",
    "# make prediction\n",
    "preds = bst.predict(dtest)\n",
    "\n",
    "print(roc_auc_score(y_test, preds))"
   ]
  },
  {
   "cell_type": "code",
   "execution_count": 38,
   "metadata": {},
   "outputs": [
    {
     "data": {
      "text/plain": [
       "<matplotlib.axes._subplots.AxesSubplot at 0x1438b63c8>"
      ]
     },
     "execution_count": 38,
     "metadata": {},
     "output_type": "execute_result"
    },
    {
     "data": {
      "image/png": "[encoded data removed]",
      "text/plain": [
       "<matplotlib.figure.Figure at 0x115a5bba8>"
      ]
     },
     "metadata": {},
     "output_type": "display_data"
    }
   ],
   "source": [
    "import matplotlib\n",
    "import matplotlib.pyplot as plt\n",
    "%matplotlib inline\n",
    "\n",
    "width = 20\n",
    "height = 20\n",
    "#plt.figure(figsize=(width, height))\n",
    "fig, ax = plt.subplots(figsize=(10, 10))\n",
    "xgb.plot_importance(bst, ax=ax)\n"
   ]
  },
  {
   "cell_type": "code",
   "execution_count": null,
   "metadata": {
    "collapsed": true
   },
   "outputs": [],
   "source": []
  }
 ],
 "metadata": {
  "kernelspec": {
   "display_name": "Python 3",
   "language": "python",
   "name": "python3"
  },
  "language_info": {
   "codemirror_mode": {
    "name": "ipython",
    "version": 3
   },
   "file_extension": ".py",
   "mimetype": "text/x-python",
   "name": "python",
   "nbconvert_exporter": "python",
   "pygments_lexer": "ipython3",
   "version": "3.5.3"
  }
 },
 "nbformat": 4,
 "nbformat_minor": 1
}
