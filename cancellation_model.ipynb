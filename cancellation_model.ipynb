{
 "cells": [
  {
   "cell_type": "code",
   "execution_count": 1,
   "metadata": {},
   "outputs": [
    {
     "name": "stdout",
     "output_type": "stream",
     "text": [
      "51761 train samples loaded\n"
     ]
    }
   ],
   "source": [
    "from sklearn.ensemble import GradientBoostingClassifier\n",
    "from sklearn.cross_validation import KFold, cross_val_score\n",
    "from sklearn.metrics import roc_auc_score\n",
    "from sklearn.preprocessing import LabelEncoder, OneHotEncoder\n",
    "from six.moves import cPickle as pickle\n",
    "import numpy as np\n",
    "import time\n",
    "import datetime\n",
    "import pandas as pd\n",
    "\n",
    "features = pd.read_csv('train/train_small.csv', header = 0)\n",
    "X = features.drop(['order_id','cancel', 'dow'], axis=1)\n",
    "y = features['cancel']\n",
    "print('{0} train samples loaded'.format(len(X)))\n",
    "\n",
    "#print(X.head())"
   ]
  },
  {
   "cell_type": "markdown",
   "metadata": {},
   "source": [
    "# Preprocessing"
   ]
  },
  {
   "cell_type": "code",
   "execution_count": 2,
   "metadata": {
    "collapsed": true
   },
   "outputs": [],
   "source": [
    "#def fill_na_zero(df, col_name):\n",
    "#    df[col_name] = df[col_name].fillna(df[col_name].mean())\n",
    "#    df = df.fillna(0)\n",
    "#    #df = df.fillna(df.mean())\n",
    "#    return df\n",
    "\n",
    "def fill_na_mean(df, col_names):\n",
    "    for c in col_names:\n",
    "        df[c] = df[c].fillna(df[c].mean())\n",
    "    return df\n",
    "\n",
    "def le_fit_transform(df, col_name):\n",
    "    le = LabelEncoder()\n",
    "    le.fit(df[col_name])\n",
    "    df[col_name] = le.transform(df[col_name])\n",
    "    return df, le\n",
    "\n",
    "def le_transform(df, col_name, le):\n",
    "    df[col_name] = le.transform(df[col_name])\n",
    "    return df\n",
    "\n",
    "def ohc_fit_transform(df, col_name):\n",
    "    ohe = OneHotEncoder(sparse=False)\n",
    "    ohe.fit(df[col_name].values.reshape(-1, 1))\n",
    "    encoded_col = ohe.transform(df[col_name].values.reshape(-1, 1))\n",
    "    #encoded_col = ohe.fit_transform(df[col_name].values.reshape(-1, 1))\n",
    "    tmp = pd.DataFrame(encoded_col, columns=[col_name + str(i) for i in range(encoded_col.shape[1])], index = df.index)\n",
    "    df = pd.concat([df, tmp], axis = 1)\n",
    "    df = df.drop([col_name], axis = 1)\n",
    "    return df, ohe\n",
    "\n",
    "def ohc_transform(df, col_name, ohe):\n",
    "    encoded_col = ohe.transform(df[col_name].values.reshape(-1, 1))\n",
    "    tmp = pd.DataFrame(encoded_col, columns=[col_name + str(i) for i in range(encoded_col.shape[1])], index = df.index)\n",
    "    df = pd.concat([df, tmp], axis = 1)\n",
    "    df = df.drop([col_name], axis = 1)\n",
    "    return df\n",
    "\n",
    "def exponentiation(df, cols):\n",
    "    for c in cols:\n",
    "        df[c + '_sq'] = df[c]**2\n",
    "        df[c + '_sqrt'] = np.sqrt(df[c])\n",
    "    return df\n",
    "        \n",
    "\n",
    " \n",
    "X = fill_na_mean(X, ['shifts_num', 'dow_paid_share'])\n",
    "X = X.fillna(0)\n",
    "\n",
    "\n",
    "#X, le_type = le_fit_transform(X, 'type')\n",
    "#X, ohc_type = ohc_fit_transform(X, 'type')\n",
    "\n",
    "#X, le_start_hour = le_fit_transform(X, 'start_hour')\n",
    "#X, ohc_le_start_hour = ohc_fit_transform(X, 'start_hour')\n",
    "\n",
    "#X, le_creation_mean = le_fit_transform(X, 'creation_mean')\n",
    "#X, ohc_creation_mean = ohc_fit_transform(X, 'creation_mean')\n",
    "\n",
    "#X, le_payment_type = le_fit_transform(X, 'payment_type')\n",
    "#X, ohc_payment_type = ohc_fit_transform(X, 'payment_type')\n",
    "\n",
    "# X = exponentiation(X, ['paid_all','canceled_all_nt','paid_16d', 'paid_30d', 'paid_60d', 'canceled_16d_nt','canceled_30d_nt', 'canceled_60d_nt', 'dow_paid', 'dow_canceled'])"
   ]
  },
  {
   "cell_type": "code",
   "execution_count": 3,
   "metadata": {
    "scrolled": true
   },
   "outputs": [
    {
     "name": "stdout",
     "output_type": "stream",
     "text": [
      "\n",
      "Gradient boosting fitting:\n",
      "Trees 50, Depth 2, Learning Rate 0.1, Time to fit: 0:00:11.772328, ROC-AUC: 0.7924604546148322\n",
      "Trees 50, Depth 2, Learning Rate 0.2, Time to fit: 0:00:11.866682, ROC-AUC: 0.8018385583767442\n",
      "Trees 50, Depth 2, Learning Rate 0.25, Time to fit: 0:00:13.183852, ROC-AUC: 0.8046883820845375\n",
      "Trees 50, Depth 2, Learning Rate 0.3, Time to fit: 0:00:11.664908, ROC-AUC: 0.8054996252211089\n",
      "Trees 50, Depth 2, Learning Rate 0.35, Time to fit: 0:00:09.307474, ROC-AUC: 0.8066745446357408\n",
      "Trees 50, Depth 2, Learning Rate 0.4, Time to fit: 0:00:09.015783, ROC-AUC: 0.8072625553883632\n",
      "Trees 50, Depth 2, Learning Rate 0.45, Time to fit: 0:00:09.395578, ROC-AUC: 0.8073094025412699\n",
      "Trees 50, Depth 2, Learning Rate 0.5, Time to fit: 0:00:09.266642, ROC-AUC: 0.8077318166929175\n",
      "Trees 50, Depth 3, Learning Rate 0.1, Time to fit: 0:00:17.612166, ROC-AUC: 0.8048400121279219\n",
      "Trees 50, Depth 3, Learning Rate 0.2, Time to fit: 0:00:16.019580, ROC-AUC: 0.8112854845744086\n",
      "Trees 50, Depth 3, Learning Rate 0.25, Time to fit: 0:00:15.845945, ROC-AUC: 0.8125253509596055\n",
      "Trees 50, Depth 3, Learning Rate 0.3, Time to fit: 0:00:15.862474, ROC-AUC: 0.8124581408773002\n",
      "Trees 50, Depth 3, Learning Rate 0.35, Time to fit: 0:00:15.729011, ROC-AUC: 0.8130054038748004\n",
      "Trees 50, Depth 3, Learning Rate 0.4, Time to fit: 0:00:20.012505, ROC-AUC: 0.813690435944262\n",
      "Trees 50, Depth 3, Learning Rate 0.45, Time to fit: 0:00:15.998559, ROC-AUC: 0.8135691665525171\n",
      "Trees 50, Depth 3, Learning Rate 0.5, Time to fit: 0:00:15.313879, ROC-AUC: 0.8131986116950228\n",
      "Trees 50, Depth 4, Learning Rate 0.1, Time to fit: 0:00:27.150835, ROC-AUC: 0.8115770309133081\n",
      "Trees 50, Depth 4, Learning Rate 0.2, Time to fit: 0:00:24.945016, ROC-AUC: 0.8160085790446363\n",
      "Trees 50, Depth 4, Learning Rate 0.25, Time to fit: 0:00:24.968797, ROC-AUC: 0.8163708548580418\n",
      "Trees 50, Depth 4, Learning Rate 0.3, Time to fit: 0:00:25.063023, ROC-AUC: 0.815169932593682\n",
      "Trees 50, Depth 4, Learning Rate 0.35, Time to fit: 0:00:25.906438, ROC-AUC: 0.8152437421133778\n",
      "Trees 50, Depth 4, Learning Rate 0.4, Time to fit: 0:00:25.712681, ROC-AUC: 0.8147494608479654\n",
      "Trees 50, Depth 4, Learning Rate 0.45, Time to fit: 0:00:25.086708, ROC-AUC: 0.8125884293112403\n",
      "Trees 50, Depth 4, Learning Rate 0.5, Time to fit: 0:00:23.245193, ROC-AUC: 0.8129841076925299\n",
      "Trees 50, Depth 5, Learning Rate 0.1, Time to fit: 0:00:41.691618, ROC-AUC: 0.8153374286323107\n",
      "Trees 50, Depth 5, Learning Rate 0.2, Time to fit: 0:00:40.892637, ROC-AUC: 0.816886477153392\n",
      "Trees 50, Depth 5, Learning Rate 0.25, Time to fit: 0:00:37.964156, ROC-AUC: 0.8161105838807836\n",
      "Trees 50, Depth 5, Learning Rate 0.3, Time to fit: 0:00:37.304710, ROC-AUC: 0.8151842649612868\n",
      "Trees 50, Depth 5, Learning Rate 0.35, Time to fit: 0:00:41.471233, ROC-AUC: 0.8141338130358047\n",
      "Trees 50, Depth 5, Learning Rate 0.4, Time to fit: 0:00:38.536929, ROC-AUC: 0.8138499133226131\n",
      "Trees 50, Depth 5, Learning Rate 0.45, Time to fit: 0:00:33.728541, ROC-AUC: 0.811657659551309\n",
      "Trees 50, Depth 5, Learning Rate 0.5, Time to fit: 0:00:37.370800, ROC-AUC: 0.8088266258026854\n",
      "Trees 50, Depth 6, Learning Rate 0.1, Time to fit: 0:01:05.322640, ROC-AUC: 0.8177876187694288\n",
      "Trees 50, Depth 6, Learning Rate 0.2, Time to fit: 0:00:58.943728, ROC-AUC: 0.8172778014299297\n",
      "Trees 50, Depth 6, Learning Rate 0.25, Time to fit: 0:00:57.698559, ROC-AUC: 0.8158806636798376\n",
      "Trees 50, Depth 6, Learning Rate 0.3, Time to fit: 0:00:59.323330, ROC-AUC: 0.8140862145783758\n",
      "Trees 50, Depth 6, Learning Rate 0.35, Time to fit: 0:00:54.124727, ROC-AUC: 0.812518174363581\n",
      "Trees 50, Depth 6, Learning Rate 0.4, Time to fit: 0:00:51.088275, ROC-AUC: 0.8102623544194296\n",
      "Trees 50, Depth 6, Learning Rate 0.45, Time to fit: 0:00:51.238784, ROC-AUC: 0.8082173780780906\n",
      "Trees 50, Depth 6, Learning Rate 0.5, Time to fit: 0:00:49.283715, ROC-AUC: 0.8052093577700383\n",
      "Trees 75, Depth 2, Learning Rate 0.1, Time to fit: 0:00:14.020200, ROC-AUC: 0.7980352157891862\n",
      "Trees 75, Depth 2, Learning Rate 0.2, Time to fit: 0:00:13.343724, ROC-AUC: 0.8063096415912476\n",
      "Trees 75, Depth 2, Learning Rate 0.25, Time to fit: 0:00:13.364673, ROC-AUC: 0.808305040734053\n",
      "Trees 75, Depth 2, Learning Rate 0.3, Time to fit: 0:00:13.141783, ROC-AUC: 0.8095515506850977\n",
      "Trees 75, Depth 2, Learning Rate 0.35, Time to fit: 0:00:13.324027, ROC-AUC: 0.8098225680266848\n",
      "Trees 75, Depth 2, Learning Rate 0.4, Time to fit: 0:00:13.158851, ROC-AUC: 0.8102241515771358\n",
      "Trees 75, Depth 2, Learning Rate 0.45, Time to fit: 0:00:13.161672, ROC-AUC: 0.8105204729991357\n",
      "Trees 75, Depth 2, Learning Rate 0.5, Time to fit: 0:00:12.967396, ROC-AUC: 0.8100220820242207\n",
      "Trees 75, Depth 3, Learning Rate 0.1, Time to fit: 0:00:23.851274, ROC-AUC: 0.8093613358912426\n",
      "Trees 75, Depth 3, Learning Rate 0.2, Time to fit: 0:00:22.460499, ROC-AUC: 0.813804002348286\n",
      "Trees 75, Depth 3, Learning Rate 0.25, Time to fit: 0:00:22.350254, ROC-AUC: 0.8147213044980663\n",
      "Trees 75, Depth 3, Learning Rate 0.3, Time to fit: 0:00:22.062578, ROC-AUC: 0.8148339827897804\n",
      "Trees 75, Depth 3, Learning Rate 0.35, Time to fit: 0:00:21.644506, ROC-AUC: 0.8148901195433673\n",
      "Trees 75, Depth 3, Learning Rate 0.4, Time to fit: 0:00:21.541646, ROC-AUC: 0.81456592438608\n",
      "Trees 75, Depth 3, Learning Rate 0.45, Time to fit: 0:00:22.454054, ROC-AUC: 0.8142688479791907\n",
      "Trees 75, Depth 3, Learning Rate 0.5, Time to fit: 0:00:21.255339, ROC-AUC: 0.8139215841459405\n",
      "Trees 75, Depth 4, Learning Rate 0.1, Time to fit: 0:00:37.555877, ROC-AUC: 0.8149348582985686\n",
      "Trees 75, Depth 4, Learning Rate 0.2, Time to fit: 0:00:34.909714, ROC-AUC: 0.8172153098756537\n",
      "Trees 75, Depth 4, Learning Rate 0.25, Time to fit: 0:00:34.236866, ROC-AUC: 0.8174345978480183\n",
      "Trees 75, Depth 4, Learning Rate 0.3, Time to fit: 0:00:33.480126, ROC-AUC: 0.8159716646472243\n",
      "Trees 75, Depth 4, Learning Rate 0.35, Time to fit: 0:00:33.282935, ROC-AUC: 0.8152183392564825\n",
      "Trees 75, Depth 4, Learning Rate 0.4, Time to fit: 0:00:32.869188, ROC-AUC: 0.8149573661201284\n",
      "Trees 75, Depth 4, Learning Rate 0.45, Time to fit: 0:00:32.535884, ROC-AUC: 0.812214064615963\n",
      "Trees 75, Depth 4, Learning Rate 0.5, Time to fit: 0:00:32.754398, ROC-AUC: 0.8124596294225661\n",
      "Trees 75, Depth 5, Learning Rate 0.1, Time to fit: 0:00:57.246304, ROC-AUC: 0.8176633283804587\n",
      "Trees 75, Depth 5, Learning Rate 0.2, Time to fit: 0:00:52.417302, ROC-AUC: 0.8180685412285437\n",
      "Trees 75, Depth 5, Learning Rate 0.25, Time to fit: 0:00:50.881064, ROC-AUC: 0.8162844706152095\n",
      "Trees 75, Depth 5, Learning Rate 0.3, Time to fit: 0:00:50.224721, ROC-AUC: 0.815059934433766\n",
      "Trees 75, Depth 5, Learning Rate 0.35, Time to fit: 0:00:49.833869, ROC-AUC: 0.8130122825965221\n",
      "Trees 75, Depth 5, Learning Rate 0.4, Time to fit: 0:00:49.164658, ROC-AUC: 0.811661146233965\n",
      "Trees 75, Depth 5, Learning Rate 0.45, Time to fit: 0:00:48.941850, ROC-AUC: 0.809708140602068\n",
      "Trees 75, Depth 5, Learning Rate 0.5, Time to fit: 0:00:49.194858, ROC-AUC: 0.80635842347989\n",
      "Trees 75, Depth 6, Learning Rate 0.1, Time to fit: 0:01:27.149379, ROC-AUC: 0.8189239992784596\n",
      "Trees 75, Depth 6, Learning Rate 0.2, Time to fit: 0:01:17.180392, ROC-AUC: 0.8164072619266831\n",
      "Trees 75, Depth 6, Learning Rate 0.25, Time to fit: 0:01:15.883029, ROC-AUC: 0.814884954476363\n",
      "Trees 75, Depth 6, Learning Rate 0.3, Time to fit: 0:01:15.335914, ROC-AUC: 0.8116912919243979\n",
      "Trees 75, Depth 6, Learning Rate 0.35, Time to fit: 0:01:13.733191, ROC-AUC: 0.8096660224850479\n",
      "Trees 75, Depth 6, Learning Rate 0.4, Time to fit: 0:01:13.467104, ROC-AUC: 0.8062854236124594\n",
      "Trees 75, Depth 6, Learning Rate 0.45, Time to fit: 0:01:12.386487, ROC-AUC: 0.8037147078100343\n",
      "Trees 75, Depth 6, Learning Rate 0.5, Time to fit: 0:01:12.725747, ROC-AUC: 0.8000285323994643\n",
      "Trees 100, Depth 2, Learning Rate 0.1, Time to fit: 0:00:17.979703, ROC-AUC: 0.8016889043573656\n",
      "Trees 100, Depth 2, Learning Rate 0.2, Time to fit: 0:00:17.411887, ROC-AUC: 0.8091260691161297\n",
      "Trees 100, Depth 2, Learning Rate 0.25, Time to fit: 0:00:17.223068, ROC-AUC: 0.8105544230118431\n",
      "Trees 100, Depth 2, Learning Rate 0.3, Time to fit: 0:00:16.949097, ROC-AUC: 0.8115006404550297\n",
      "Trees 100, Depth 2, Learning Rate 0.35, Time to fit: 0:00:17.039945, ROC-AUC: 0.8118696514551802\n",
      "Trees 100, Depth 2, Learning Rate 0.4, Time to fit: 0:00:16.895779, ROC-AUC: 0.8115689183929076\n"
     ]
    },
    {
     "name": "stdout",
     "output_type": "stream",
     "text": [
      "Trees 100, Depth 2, Learning Rate 0.45, Time to fit: 0:00:17.062252, ROC-AUC: 0.8116962263808501\n",
      "Trees 100, Depth 2, Learning Rate 0.5, Time to fit: 0:00:16.905144, ROC-AUC: 0.8114893088793597\n",
      "Trees 100, Depth 3, Learning Rate 0.1, Time to fit: 0:00:30.784309, ROC-AUC: 0.8119034248270675\n",
      "Trees 100, Depth 3, Learning Rate 0.2, Time to fit: 0:00:29.093160, ROC-AUC: 0.8153423126939201\n",
      "Trees 100, Depth 3, Learning Rate 0.25, Time to fit: 0:00:28.672846, ROC-AUC: 0.8159449855080364\n",
      "Trees 100, Depth 3, Learning Rate 0.3, Time to fit: 0:00:28.535720, ROC-AUC: 0.8159411346098148\n",
      "Trees 100, Depth 3, Learning Rate 0.35, Time to fit: 0:00:28.154633, ROC-AUC: 0.8159509590854028\n",
      "Trees 100, Depth 3, Learning Rate 0.4, Time to fit: 0:00:28.196763, ROC-AUC: 0.8154404850860288\n",
      "Trees 100, Depth 3, Learning Rate 0.45, Time to fit: 0:00:27.846672, ROC-AUC: 0.8145576175318681\n",
      "Trees 100, Depth 3, Learning Rate 0.5, Time to fit: 0:00:27.631544, ROC-AUC: 0.8143640994430774\n",
      "Trees 100, Depth 4, Learning Rate 0.1, Time to fit: 0:00:51.730138, ROC-AUC: 0.8164023607906359\n",
      "Trees 100, Depth 4, Learning Rate 0.2, Time to fit: 0:00:57.935621, ROC-AUC: 0.8176675445767699\n",
      "Trees 100, Depth 4, Learning Rate 0.25, Time to fit: 0:00:49.760797, ROC-AUC: 0.817819697559208\n",
      "Trees 100, Depth 4, Learning Rate 0.3, Time to fit: 0:00:45.868339, ROC-AUC: 0.8156847579382245\n",
      "Trees 100, Depth 4, Learning Rate 0.35, Time to fit: 0:00:52.064740, ROC-AUC: 0.8142311493921742\n",
      "Trees 100, Depth 4, Learning Rate 0.4, Time to fit: 0:00:47.225752, ROC-AUC: 0.8143575955978267\n",
      "Trees 100, Depth 4, Learning Rate 0.45, Time to fit: 0:00:45.015487, ROC-AUC: 0.810825620670031\n",
      "Trees 100, Depth 4, Learning Rate 0.5, Time to fit: 0:00:49.484966, ROC-AUC: 0.8110434006613982\n",
      "Trees 100, Depth 5, Learning Rate 0.1, Time to fit: 0:01:30.204869, ROC-AUC: 0.8182765229862566\n",
      "Trees 100, Depth 5, Learning Rate 0.2, Time to fit: 0:01:11.429221, ROC-AUC: 0.8178885517575963\n",
      "Trees 100, Depth 5, Learning Rate 0.25, Time to fit: 0:01:09.139552, ROC-AUC: 0.8161500659649464\n",
      "Trees 100, Depth 5, Learning Rate 0.3, Time to fit: 0:01:07.918641, ROC-AUC: 0.8141810909165048\n"
     ]
    },
    {
     "ename": "KeyboardInterrupt",
     "evalue": "",
     "output_type": "error",
     "traceback": [
      "\u001b[0;31m---------------------------------------------------------------------------\u001b[0m",
      "\u001b[0;31mKeyboardInterrupt\u001b[0m                         Traceback (most recent call last)",
      "\u001b[0;32m<ipython-input-3-ccd62de4b0a4>\u001b[0m in \u001b[0;36m<module>\u001b[0;34m()\u001b[0m\n\u001b[1;32m     14\u001b[0m             \u001b[0mstart_time\u001b[0m \u001b[0;34m=\u001b[0m \u001b[0mdatetime\u001b[0m\u001b[0;34m.\u001b[0m\u001b[0mdatetime\u001b[0m\u001b[0;34m.\u001b[0m\u001b[0mnow\u001b[0m\u001b[0;34m(\u001b[0m\u001b[0;34m)\u001b[0m\u001b[0;34m\u001b[0m\u001b[0m\n\u001b[1;32m     15\u001b[0m             \u001b[0mgb_clf\u001b[0m \u001b[0;34m=\u001b[0m \u001b[0mGradientBoostingClassifier\u001b[0m\u001b[0;34m(\u001b[0m\u001b[0mlearning_rate\u001b[0m\u001b[0;34m=\u001b[0m\u001b[0mr\u001b[0m\u001b[0;34m,\u001b[0m \u001b[0mn_estimators\u001b[0m\u001b[0;34m=\u001b[0m\u001b[0mt\u001b[0m\u001b[0;34m,\u001b[0m \u001b[0mverbose\u001b[0m\u001b[0;34m=\u001b[0m\u001b[0;32mFalse\u001b[0m\u001b[0;34m,\u001b[0m \u001b[0mrandom_state\u001b[0m\u001b[0;34m=\u001b[0m\u001b[0;36m241\u001b[0m\u001b[0;34m,\u001b[0m \u001b[0mmax_depth\u001b[0m \u001b[0;34m=\u001b[0m \u001b[0md\u001b[0m\u001b[0;34m)\u001b[0m\u001b[0;34m\u001b[0m\u001b[0m\n\u001b[0;32m---> 16\u001b[0;31m             \u001b[0mscores\u001b[0m \u001b[0;34m=\u001b[0m \u001b[0mcross_val_score\u001b[0m\u001b[0;34m(\u001b[0m\u001b[0mgb_clf\u001b[0m\u001b[0;34m,\u001b[0m \u001b[0mX\u001b[0m\u001b[0;34m=\u001b[0m\u001b[0mX\u001b[0m\u001b[0;34m,\u001b[0m \u001b[0my\u001b[0m\u001b[0;34m=\u001b[0m\u001b[0my\u001b[0m\u001b[0;34m,\u001b[0m \u001b[0mscoring\u001b[0m\u001b[0;34m=\u001b[0m\u001b[0;34m'roc_auc'\u001b[0m\u001b[0;34m,\u001b[0m \u001b[0mcv\u001b[0m\u001b[0;34m=\u001b[0m\u001b[0mkf\u001b[0m\u001b[0;34m)\u001b[0m\u001b[0;34m\u001b[0m\u001b[0m\n\u001b[0m\u001b[1;32m     17\u001b[0m             \u001b[0mtime_to_fit\u001b[0m \u001b[0;34m=\u001b[0m \u001b[0mdatetime\u001b[0m\u001b[0;34m.\u001b[0m\u001b[0mdatetime\u001b[0m\u001b[0;34m.\u001b[0m\u001b[0mnow\u001b[0m\u001b[0;34m(\u001b[0m\u001b[0;34m)\u001b[0m \u001b[0;34m-\u001b[0m \u001b[0mstart_time\u001b[0m\u001b[0;34m\u001b[0m\u001b[0m\n\u001b[1;32m     18\u001b[0m             \u001b[0mprint\u001b[0m\u001b[0;34m(\u001b[0m\u001b[0;34m'Trees {0}, Depth {1}, Learning Rate {2}, Time to fit: {3}, ROC-AUC: {4}'\u001b[0m\u001b[0;34m.\u001b[0m\u001b[0mformat\u001b[0m\u001b[0;34m(\u001b[0m\u001b[0mt\u001b[0m\u001b[0;34m,\u001b[0m \u001b[0md\u001b[0m\u001b[0;34m,\u001b[0m \u001b[0mr\u001b[0m\u001b[0;34m,\u001b[0m \u001b[0mtime_to_fit\u001b[0m\u001b[0;34m,\u001b[0m \u001b[0mscores\u001b[0m\u001b[0;34m.\u001b[0m\u001b[0mmean\u001b[0m\u001b[0;34m(\u001b[0m\u001b[0;34m)\u001b[0m\u001b[0;34m)\u001b[0m\u001b[0;34m)\u001b[0m\u001b[0;34m\u001b[0m\u001b[0m\n",
      "\u001b[0;32m/Users/gapon/anaconda3/lib/python3.5/site-packages/sklearn/cross_validation.py\u001b[0m in \u001b[0;36mcross_val_score\u001b[0;34m(estimator, X, y, scoring, cv, n_jobs, verbose, fit_params, pre_dispatch)\u001b[0m\n\u001b[1;32m   1431\u001b[0m                                               \u001b[0mtrain\u001b[0m\u001b[0;34m,\u001b[0m \u001b[0mtest\u001b[0m\u001b[0;34m,\u001b[0m \u001b[0mverbose\u001b[0m\u001b[0;34m,\u001b[0m \u001b[0;32mNone\u001b[0m\u001b[0;34m,\u001b[0m\u001b[0;34m\u001b[0m\u001b[0m\n\u001b[1;32m   1432\u001b[0m                                               fit_params)\n\u001b[0;32m-> 1433\u001b[0;31m                       for train, test in cv)\n\u001b[0m\u001b[1;32m   1434\u001b[0m     \u001b[0;32mreturn\u001b[0m \u001b[0mnp\u001b[0m\u001b[0;34m.\u001b[0m\u001b[0marray\u001b[0m\u001b[0;34m(\u001b[0m\u001b[0mscores\u001b[0m\u001b[0;34m)\u001b[0m\u001b[0;34m[\u001b[0m\u001b[0;34m:\u001b[0m\u001b[0;34m,\u001b[0m \u001b[0;36m0\u001b[0m\u001b[0;34m]\u001b[0m\u001b[0;34m\u001b[0m\u001b[0m\n\u001b[1;32m   1435\u001b[0m \u001b[0;34m\u001b[0m\u001b[0m\n",
      "\u001b[0;32m/Users/gapon/anaconda3/lib/python3.5/site-packages/sklearn/externals/joblib/parallel.py\u001b[0m in \u001b[0;36m__call__\u001b[0;34m(self, iterable)\u001b[0m\n\u001b[1;32m    798\u001b[0m             \u001b[0;31m# was dispatched. In particular this covers the edge\u001b[0m\u001b[0;34m\u001b[0m\u001b[0;34m\u001b[0m\u001b[0m\n\u001b[1;32m    799\u001b[0m             \u001b[0;31m# case of Parallel used with an exhausted iterator.\u001b[0m\u001b[0;34m\u001b[0m\u001b[0;34m\u001b[0m\u001b[0m\n\u001b[0;32m--> 800\u001b[0;31m             \u001b[0;32mwhile\u001b[0m \u001b[0mself\u001b[0m\u001b[0;34m.\u001b[0m\u001b[0mdispatch_one_batch\u001b[0m\u001b[0;34m(\u001b[0m\u001b[0miterator\u001b[0m\u001b[0;34m)\u001b[0m\u001b[0;34m:\u001b[0m\u001b[0;34m\u001b[0m\u001b[0m\n\u001b[0m\u001b[1;32m    801\u001b[0m                 \u001b[0mself\u001b[0m\u001b[0;34m.\u001b[0m\u001b[0m_iterating\u001b[0m \u001b[0;34m=\u001b[0m \u001b[0;32mTrue\u001b[0m\u001b[0;34m\u001b[0m\u001b[0m\n\u001b[1;32m    802\u001b[0m             \u001b[0;32melse\u001b[0m\u001b[0;34m:\u001b[0m\u001b[0;34m\u001b[0m\u001b[0m\n",
      "\u001b[0;32m/Users/gapon/anaconda3/lib/python3.5/site-packages/sklearn/externals/joblib/parallel.py\u001b[0m in \u001b[0;36mdispatch_one_batch\u001b[0;34m(self, iterator)\u001b[0m\n\u001b[1;32m    656\u001b[0m                 \u001b[0;32mreturn\u001b[0m \u001b[0;32mFalse\u001b[0m\u001b[0;34m\u001b[0m\u001b[0m\n\u001b[1;32m    657\u001b[0m             \u001b[0;32melse\u001b[0m\u001b[0;34m:\u001b[0m\u001b[0;34m\u001b[0m\u001b[0m\n\u001b[0;32m--> 658\u001b[0;31m                 \u001b[0mself\u001b[0m\u001b[0;34m.\u001b[0m\u001b[0m_dispatch\u001b[0m\u001b[0;34m(\u001b[0m\u001b[0mtasks\u001b[0m\u001b[0;34m)\u001b[0m\u001b[0;34m\u001b[0m\u001b[0m\n\u001b[0m\u001b[1;32m    659\u001b[0m                 \u001b[0;32mreturn\u001b[0m \u001b[0;32mTrue\u001b[0m\u001b[0;34m\u001b[0m\u001b[0m\n\u001b[1;32m    660\u001b[0m \u001b[0;34m\u001b[0m\u001b[0m\n",
      "\u001b[0;32m/Users/gapon/anaconda3/lib/python3.5/site-packages/sklearn/externals/joblib/parallel.py\u001b[0m in \u001b[0;36m_dispatch\u001b[0;34m(self, batch)\u001b[0m\n\u001b[1;32m    564\u001b[0m \u001b[0;34m\u001b[0m\u001b[0m\n\u001b[1;32m    565\u001b[0m         \u001b[0;32mif\u001b[0m \u001b[0mself\u001b[0m\u001b[0;34m.\u001b[0m\u001b[0m_pool\u001b[0m \u001b[0;32mis\u001b[0m \u001b[0;32mNone\u001b[0m\u001b[0;34m:\u001b[0m\u001b[0;34m\u001b[0m\u001b[0m\n\u001b[0;32m--> 566\u001b[0;31m             \u001b[0mjob\u001b[0m \u001b[0;34m=\u001b[0m \u001b[0mImmediateComputeBatch\u001b[0m\u001b[0;34m(\u001b[0m\u001b[0mbatch\u001b[0m\u001b[0;34m)\u001b[0m\u001b[0;34m\u001b[0m\u001b[0m\n\u001b[0m\u001b[1;32m    567\u001b[0m             \u001b[0mself\u001b[0m\u001b[0;34m.\u001b[0m\u001b[0m_jobs\u001b[0m\u001b[0;34m.\u001b[0m\u001b[0mappend\u001b[0m\u001b[0;34m(\u001b[0m\u001b[0mjob\u001b[0m\u001b[0;34m)\u001b[0m\u001b[0;34m\u001b[0m\u001b[0m\n\u001b[1;32m    568\u001b[0m             \u001b[0mself\u001b[0m\u001b[0;34m.\u001b[0m\u001b[0mn_dispatched_batches\u001b[0m \u001b[0;34m+=\u001b[0m \u001b[0;36m1\u001b[0m\u001b[0;34m\u001b[0m\u001b[0m\n",
      "\u001b[0;32m/Users/gapon/anaconda3/lib/python3.5/site-packages/sklearn/externals/joblib/parallel.py\u001b[0m in \u001b[0;36m__init__\u001b[0;34m(self, batch)\u001b[0m\n\u001b[1;32m    178\u001b[0m         \u001b[0;31m# Don't delay the application, to avoid keeping the input\u001b[0m\u001b[0;34m\u001b[0m\u001b[0;34m\u001b[0m\u001b[0m\n\u001b[1;32m    179\u001b[0m         \u001b[0;31m# arguments in memory\u001b[0m\u001b[0;34m\u001b[0m\u001b[0;34m\u001b[0m\u001b[0m\n\u001b[0;32m--> 180\u001b[0;31m         \u001b[0mself\u001b[0m\u001b[0;34m.\u001b[0m\u001b[0mresults\u001b[0m \u001b[0;34m=\u001b[0m \u001b[0mbatch\u001b[0m\u001b[0;34m(\u001b[0m\u001b[0;34m)\u001b[0m\u001b[0;34m\u001b[0m\u001b[0m\n\u001b[0m\u001b[1;32m    181\u001b[0m \u001b[0;34m\u001b[0m\u001b[0m\n\u001b[1;32m    182\u001b[0m     \u001b[0;32mdef\u001b[0m \u001b[0mget\u001b[0m\u001b[0;34m(\u001b[0m\u001b[0mself\u001b[0m\u001b[0;34m)\u001b[0m\u001b[0;34m:\u001b[0m\u001b[0;34m\u001b[0m\u001b[0m\n",
      "\u001b[0;32m/Users/gapon/anaconda3/lib/python3.5/site-packages/sklearn/externals/joblib/parallel.py\u001b[0m in \u001b[0;36m__call__\u001b[0;34m(self)\u001b[0m\n\u001b[1;32m     70\u001b[0m \u001b[0;34m\u001b[0m\u001b[0m\n\u001b[1;32m     71\u001b[0m     \u001b[0;32mdef\u001b[0m \u001b[0m__call__\u001b[0m\u001b[0;34m(\u001b[0m\u001b[0mself\u001b[0m\u001b[0;34m)\u001b[0m\u001b[0;34m:\u001b[0m\u001b[0;34m\u001b[0m\u001b[0m\n\u001b[0;32m---> 72\u001b[0;31m         \u001b[0;32mreturn\u001b[0m \u001b[0;34m[\u001b[0m\u001b[0mfunc\u001b[0m\u001b[0;34m(\u001b[0m\u001b[0;34m*\u001b[0m\u001b[0margs\u001b[0m\u001b[0;34m,\u001b[0m \u001b[0;34m**\u001b[0m\u001b[0mkwargs\u001b[0m\u001b[0;34m)\u001b[0m \u001b[0;32mfor\u001b[0m \u001b[0mfunc\u001b[0m\u001b[0;34m,\u001b[0m \u001b[0margs\u001b[0m\u001b[0;34m,\u001b[0m \u001b[0mkwargs\u001b[0m \u001b[0;32min\u001b[0m \u001b[0mself\u001b[0m\u001b[0;34m.\u001b[0m\u001b[0mitems\u001b[0m\u001b[0;34m]\u001b[0m\u001b[0;34m\u001b[0m\u001b[0m\n\u001b[0m\u001b[1;32m     73\u001b[0m \u001b[0;34m\u001b[0m\u001b[0m\n\u001b[1;32m     74\u001b[0m     \u001b[0;32mdef\u001b[0m \u001b[0m__len__\u001b[0m\u001b[0;34m(\u001b[0m\u001b[0mself\u001b[0m\u001b[0;34m)\u001b[0m\u001b[0;34m:\u001b[0m\u001b[0;34m\u001b[0m\u001b[0m\n",
      "\u001b[0;32m/Users/gapon/anaconda3/lib/python3.5/site-packages/sklearn/externals/joblib/parallel.py\u001b[0m in \u001b[0;36m<listcomp>\u001b[0;34m(.0)\u001b[0m\n\u001b[1;32m     70\u001b[0m \u001b[0;34m\u001b[0m\u001b[0m\n\u001b[1;32m     71\u001b[0m     \u001b[0;32mdef\u001b[0m \u001b[0m__call__\u001b[0m\u001b[0;34m(\u001b[0m\u001b[0mself\u001b[0m\u001b[0;34m)\u001b[0m\u001b[0;34m:\u001b[0m\u001b[0;34m\u001b[0m\u001b[0m\n\u001b[0;32m---> 72\u001b[0;31m         \u001b[0;32mreturn\u001b[0m \u001b[0;34m[\u001b[0m\u001b[0mfunc\u001b[0m\u001b[0;34m(\u001b[0m\u001b[0;34m*\u001b[0m\u001b[0margs\u001b[0m\u001b[0;34m,\u001b[0m \u001b[0;34m**\u001b[0m\u001b[0mkwargs\u001b[0m\u001b[0;34m)\u001b[0m \u001b[0;32mfor\u001b[0m \u001b[0mfunc\u001b[0m\u001b[0;34m,\u001b[0m \u001b[0margs\u001b[0m\u001b[0;34m,\u001b[0m \u001b[0mkwargs\u001b[0m \u001b[0;32min\u001b[0m \u001b[0mself\u001b[0m\u001b[0;34m.\u001b[0m\u001b[0mitems\u001b[0m\u001b[0;34m]\u001b[0m\u001b[0;34m\u001b[0m\u001b[0m\n\u001b[0m\u001b[1;32m     73\u001b[0m \u001b[0;34m\u001b[0m\u001b[0m\n\u001b[1;32m     74\u001b[0m     \u001b[0;32mdef\u001b[0m \u001b[0m__len__\u001b[0m\u001b[0;34m(\u001b[0m\u001b[0mself\u001b[0m\u001b[0;34m)\u001b[0m\u001b[0;34m:\u001b[0m\u001b[0;34m\u001b[0m\u001b[0m\n",
      "\u001b[0;32m/Users/gapon/anaconda3/lib/python3.5/site-packages/sklearn/cross_validation.py\u001b[0m in \u001b[0;36m_fit_and_score\u001b[0;34m(estimator, X, y, scorer, train, test, verbose, parameters, fit_params, return_train_score, return_parameters, error_score)\u001b[0m\n\u001b[1;32m   1529\u001b[0m             \u001b[0mestimator\u001b[0m\u001b[0;34m.\u001b[0m\u001b[0mfit\u001b[0m\u001b[0;34m(\u001b[0m\u001b[0mX_train\u001b[0m\u001b[0;34m,\u001b[0m \u001b[0;34m**\u001b[0m\u001b[0mfit_params\u001b[0m\u001b[0;34m)\u001b[0m\u001b[0;34m\u001b[0m\u001b[0m\n\u001b[1;32m   1530\u001b[0m         \u001b[0;32melse\u001b[0m\u001b[0;34m:\u001b[0m\u001b[0;34m\u001b[0m\u001b[0m\n\u001b[0;32m-> 1531\u001b[0;31m             \u001b[0mestimator\u001b[0m\u001b[0;34m.\u001b[0m\u001b[0mfit\u001b[0m\u001b[0;34m(\u001b[0m\u001b[0mX_train\u001b[0m\u001b[0;34m,\u001b[0m \u001b[0my_train\u001b[0m\u001b[0;34m,\u001b[0m \u001b[0;34m**\u001b[0m\u001b[0mfit_params\u001b[0m\u001b[0;34m)\u001b[0m\u001b[0;34m\u001b[0m\u001b[0m\n\u001b[0m\u001b[1;32m   1532\u001b[0m \u001b[0;34m\u001b[0m\u001b[0m\n\u001b[1;32m   1533\u001b[0m     \u001b[0;32mexcept\u001b[0m \u001b[0mException\u001b[0m \u001b[0;32mas\u001b[0m \u001b[0me\u001b[0m\u001b[0;34m:\u001b[0m\u001b[0;34m\u001b[0m\u001b[0m\n",
      "\u001b[0;32m/Users/gapon/anaconda3/lib/python3.5/site-packages/sklearn/ensemble/gradient_boosting.py\u001b[0m in \u001b[0;36mfit\u001b[0;34m(self, X, y, sample_weight, monitor)\u001b[0m\n\u001b[1;32m   1023\u001b[0m         \u001b[0;31m# fit the boosting stages\u001b[0m\u001b[0;34m\u001b[0m\u001b[0;34m\u001b[0m\u001b[0m\n\u001b[1;32m   1024\u001b[0m         n_stages = self._fit_stages(X, y, y_pred, sample_weight, random_state,\n\u001b[0;32m-> 1025\u001b[0;31m                                     begin_at_stage, monitor, X_idx_sorted)\n\u001b[0m\u001b[1;32m   1026\u001b[0m         \u001b[0;31m# change shape of arrays after fit (early-stopping or additional ests)\u001b[0m\u001b[0;34m\u001b[0m\u001b[0;34m\u001b[0m\u001b[0m\n\u001b[1;32m   1027\u001b[0m         \u001b[0;32mif\u001b[0m \u001b[0mn_stages\u001b[0m \u001b[0;34m!=\u001b[0m \u001b[0mself\u001b[0m\u001b[0;34m.\u001b[0m\u001b[0mestimators_\u001b[0m\u001b[0;34m.\u001b[0m\u001b[0mshape\u001b[0m\u001b[0;34m[\u001b[0m\u001b[0;36m0\u001b[0m\u001b[0;34m]\u001b[0m\u001b[0;34m:\u001b[0m\u001b[0;34m\u001b[0m\u001b[0m\n",
      "\u001b[0;32m/Users/gapon/anaconda3/lib/python3.5/site-packages/sklearn/ensemble/gradient_boosting.py\u001b[0m in \u001b[0;36m_fit_stages\u001b[0;34m(self, X, y, y_pred, sample_weight, random_state, begin_at_stage, monitor, X_idx_sorted)\u001b[0m\n\u001b[1;32m   1078\u001b[0m             y_pred = self._fit_stage(i, X, y, y_pred, sample_weight,\n\u001b[1;32m   1079\u001b[0m                                      \u001b[0msample_mask\u001b[0m\u001b[0;34m,\u001b[0m \u001b[0mrandom_state\u001b[0m\u001b[0;34m,\u001b[0m \u001b[0mX_idx_sorted\u001b[0m\u001b[0;34m,\u001b[0m\u001b[0;34m\u001b[0m\u001b[0m\n\u001b[0;32m-> 1080\u001b[0;31m                                      X_csc, X_csr)\n\u001b[0m\u001b[1;32m   1081\u001b[0m \u001b[0;34m\u001b[0m\u001b[0m\n\u001b[1;32m   1082\u001b[0m             \u001b[0;31m# track deviance (= loss)\u001b[0m\u001b[0;34m\u001b[0m\u001b[0;34m\u001b[0m\u001b[0m\n",
      "\u001b[0;32m/Users/gapon/anaconda3/lib/python3.5/site-packages/sklearn/ensemble/gradient_boosting.py\u001b[0m in \u001b[0;36m_fit_stage\u001b[0;34m(self, i, X, y, y_pred, sample_weight, sample_mask, random_state, X_idx_sorted, X_csc, X_csr)\u001b[0m\n\u001b[1;32m    782\u001b[0m             \u001b[0;32melse\u001b[0m\u001b[0;34m:\u001b[0m\u001b[0;34m\u001b[0m\u001b[0m\n\u001b[1;32m    783\u001b[0m                 tree.fit(X, residual, sample_weight=sample_weight,\n\u001b[0;32m--> 784\u001b[0;31m                          check_input=False, X_idx_sorted=X_idx_sorted)\n\u001b[0m\u001b[1;32m    785\u001b[0m \u001b[0;34m\u001b[0m\u001b[0m\n\u001b[1;32m    786\u001b[0m             \u001b[0;31m# update tree leaves\u001b[0m\u001b[0;34m\u001b[0m\u001b[0;34m\u001b[0m\u001b[0m\n",
      "\u001b[0;32m/Users/gapon/anaconda3/lib/python3.5/site-packages/sklearn/tree/tree.py\u001b[0m in \u001b[0;36mfit\u001b[0;34m(self, X, y, sample_weight, check_input, X_idx_sorted)\u001b[0m\n\u001b[1;32m    348\u001b[0m                                            max_leaf_nodes)\n\u001b[1;32m    349\u001b[0m \u001b[0;34m\u001b[0m\u001b[0m\n\u001b[0;32m--> 350\u001b[0;31m         \u001b[0mbuilder\u001b[0m\u001b[0;34m.\u001b[0m\u001b[0mbuild\u001b[0m\u001b[0;34m(\u001b[0m\u001b[0mself\u001b[0m\u001b[0;34m.\u001b[0m\u001b[0mtree_\u001b[0m\u001b[0;34m,\u001b[0m \u001b[0mX\u001b[0m\u001b[0;34m,\u001b[0m \u001b[0my\u001b[0m\u001b[0;34m,\u001b[0m \u001b[0msample_weight\u001b[0m\u001b[0;34m,\u001b[0m \u001b[0mX_idx_sorted\u001b[0m\u001b[0;34m)\u001b[0m\u001b[0;34m\u001b[0m\u001b[0m\n\u001b[0m\u001b[1;32m    351\u001b[0m \u001b[0;34m\u001b[0m\u001b[0m\n\u001b[1;32m    352\u001b[0m         \u001b[0;32mif\u001b[0m \u001b[0mself\u001b[0m\u001b[0;34m.\u001b[0m\u001b[0mn_outputs_\u001b[0m \u001b[0;34m==\u001b[0m \u001b[0;36m1\u001b[0m\u001b[0;34m:\u001b[0m\u001b[0;34m\u001b[0m\u001b[0m\n",
      "\u001b[0;31mKeyboardInterrupt\u001b[0m: "
     ]
    }
   ],
   "source": [
    "folds = 5\n",
    "kf = KFold(len(X), folds, shuffle=True, random_state=42)\n",
    "trees = [50, 75, 100]\n",
    "depths = [2, 3, 4, 5, 6]\n",
    "rates = [0.1, 0.2, 0.25, 0.3, 0.35, 0.4, 0.45, 0.5]\n",
    "\n",
    "\n",
    "print()\n",
    "print('Gradient boosting fitting:')\n",
    "\n",
    "for t in trees:\n",
    "    for d in depths:\n",
    "        for r in rates:\n",
    "            start_time = datetime.datetime.now()\n",
    "            gb_clf = GradientBoostingClassifier(learning_rate=r, n_estimators=t, verbose=False, random_state=241, max_depth = d)\n",
    "            scores = cross_val_score(gb_clf, X=X, y=y, scoring='roc_auc', cv=kf)\n",
    "            time_to_fit = datetime.datetime.now() - start_time\n",
    "            print('Trees {0}, Depth {1}, Learning Rate {2}, Time to fit: {3}, ROC-AUC: {4}'.format(t, d, r, time_to_fit, scores.mean()))"
   ]
  },
  {
   "cell_type": "markdown",
   "metadata": {},
   "source": [
    "# Model Training"
   ]
  },
  {
   "cell_type": "code",
   "execution_count": null,
   "metadata": {},
   "outputs": [],
   "source": [
    "final_gb_clf = GradientBoostingClassifier(learning_rate=0.2, n_estimators=75, max_depth=5, verbose=False, random_state=241)\n",
    "final_gb_clf.fit(X, y)\n",
    "\n",
    "\n",
    "coeff = final_gb_clf.feature_importances_\n",
    "names = X.columns.values\n",
    "df = pd.DataFrame({'features':names, 'importance':coeff})\n",
    "print(df.sort('importance'))"
   ]
  },
  {
   "cell_type": "code",
   "execution_count": 207,
   "metadata": {},
   "outputs": [
    {
     "data": {
      "text/plain": [
       "array(['admin', 'auto', 'crm', 'ios', 'reactivation', 'web_new_flow'], dtype=object)"
      ]
     },
     "execution_count": 207,
     "metadata": {},
     "output_type": "execute_result"
    }
   ],
   "source": [
    "le_creation_mean.classes_"
   ]
  },
  {
   "cell_type": "markdown",
   "metadata": {},
   "source": [
    "### Dump model to pickle"
   ]
  },
  {
   "cell_type": "code",
   "execution_count": 7,
   "metadata": {
    "collapsed": true
   },
   "outputs": [],
   "source": [
    "#file_name = 'cancellations_model.pickle'\n",
    "#with open(file_name, 'wb') as f:\n",
    "#    pickle.dump(final_gb_clf, f, pickle.HIGHEST_PROTOCOL)"
   ]
  },
  {
   "cell_type": "code",
   "execution_count": 4,
   "metadata": {
    "collapsed": true
   },
   "outputs": [],
   "source": [
    "pickle_file = 'cancellations_model.pickle'\n",
    "try:\n",
    "    f = open(pickle_file, 'wb')\n",
    "    save = {\n",
    "        'model': final_gb_clf,\n",
    "        #'ohc_dow': ohc_dow,\n",
    "        #'le_type': le_type,\n",
    "        #'ohc_type': ohc_type,\n",
    "        #'le_creation_mean': le_creation_mean,\n",
    "        #'ohc_creation_mean': ohc_creation_mean,\n",
    "        #'le_payment_type': le_payment_type,\n",
    "        #'ohc_payment_type': ohc_payment_type,\n",
    "    }\n",
    "    pickle.dump(save, f, pickle.HIGHEST_PROTOCOL)\n",
    "    f.close()\n",
    "except Exception as e:\n",
    "    print('Unable to save data to', pickle_file, ':', e)\n",
    "    raise"
   ]
  },
  {
   "cell_type": "markdown",
   "metadata": {},
   "source": [
    "# Тест на отложенной выборке"
   ]
  },
  {
   "cell_type": "code",
   "execution_count": 217,
   "metadata": {},
   "outputs": [
    {
     "name": "stdout",
     "output_type": "stream",
     "text": [
      "0.82317516594\n"
     ]
    }
   ],
   "source": [
    "features = pd.read_csv('test/test-20-29-jun.csv', header = 0)\n",
    "\n",
    "X_test = features.drop(['order_id','cancel', 'dow'], axis=1)\n",
    "\n",
    "\n",
    "# X_test = fill_na(X_test, 'shifts_num')\n",
    "\n",
    "X_test = fill_na_mean(X_test, ['shifts_num', 'dow_paid_share'])\n",
    "\n",
    "X_test = X_test.fillna(0)\n",
    "\n",
    "\n",
    "\n",
    "\n",
    "#X_test = ohc_transform(X_test, 'dow', ohc_dow)\n",
    "\n",
    "#X_test = le_transform(X_test, 'type', le_type)\n",
    "#X_test = ohc_transform(X_test, 'type', ohc_type)\n",
    "\n",
    "#X_test = le_transform(X_test, 'creation_mean', le_creation_mean)\n",
    "#X_test = ohc_transform(X_test, 'creation_mean', ohc_creation_mean)\n",
    "\n",
    "#X_test = le_transform(X_test, 'payment_type', le_payment_type)\n",
    "#X_test = ohc_transform(X_test, 'payment_type', ohc_payment_type)\n",
    "\n",
    "# X_test = exponentiation(\n",
    "#    X_test, ['paid_all','canceled_all','paid_16d','canceled_16d', 'paid_30d','canceled_30d', 'paid_60d','canceled_60d'])\n",
    "\n",
    "\n",
    "y_true = features['cancel']\n",
    "y_pred = final_gb_clf.predict_proba(X_test)[:,1]\n",
    "\n",
    "\n",
    "print(roc_auc_score(y_true, y_pred))"
   ]
  },
  {
   "cell_type": "markdown",
   "metadata": {},
   "source": [
    "### Bins"
   ]
  },
  {
   "cell_type": "code",
   "execution_count": 58,
   "metadata": {
    "collapsed": true
   },
   "outputs": [],
   "source": [
    "bins = [0.0, 0.1, 0.2, 0.3, 0.4, 0.5, 0.6, 0.7, 0.8, 0.9, 1.0]\n",
    "group_names = ['0-10', '10-20', '20-30', '30-40', '40-50', '50-60', '60-70', '70-80', '80-90', '90-100']\n",
    "\n",
    "categories = pd.cut(y_pred, bins, labels=group_names)\n",
    "\n",
    "df = pd.DataFrame(columns=['y_true', 'y_pred', 'bin'])\n",
    "df['y_true'] = y_true\n",
    "df['y_pred'] = y_pred\n",
    "df['bin'] = categories\n",
    "\n",
    "df.to_csv('bins_nt_model-2017-06-29.csv')"
   ]
  },
  {
   "cell_type": "markdown",
   "metadata": {},
   "source": [
    "# Prediction"
   ]
  },
  {
   "cell_type": "code",
   "execution_count": 218,
   "metadata": {},
   "outputs": [
    {
     "name": "stdout",
     "output_type": "stream",
     "text": [
      "[ 0.47702018  0.50489465  0.47570555 ...,  0.5580376   0.10706268\n",
      "  0.17947012]\n",
      "DONE\n"
     ]
    }
   ],
   "source": [
    "features = pd.read_csv('predict/2017-07-01.csv', header = 0, index_col='order_id')\n",
    "#X_test = read_csv('test/test-2017.csv', index_col=[0,1,2,3])\n",
    "\n",
    "\n",
    "\n",
    "\n",
    "# Preprocessing\n",
    "X_test = features\n",
    "\n",
    "X_test = features.drop(['dow'], axis=1)\n",
    "X_test = fill_na_mean(X_test, ['shifts_num', 'dow_paid_share'])\n",
    "X_test = X_test.fillna(0)\n",
    "\n",
    "\n",
    "\n",
    "#y_true = features['cancel']\n",
    "y_pred = final_gb_clf.predict_proba(X_test)[:,1]\n",
    "\n",
    "\n",
    "#print(roc_auc_score(y_true, y_pred))\n",
    "print(y_pred)\n",
    "\n",
    "\n",
    "df = pd.DataFrame(index=X_test.index, columns=['will_cancel'])\n",
    "df['will_cancel'] = final_gb_clf.predict_proba(X_test)[:,1]\n",
    "df.to_csv('predict/predict-2017-07-01.csv')\n",
    "print('DONE')"
   ]
  },
  {
   "cell_type": "code",
   "execution_count": null,
   "metadata": {
    "collapsed": true
   },
   "outputs": [],
   "source": []
  }
 ],
 "metadata": {
  "kernelspec": {
   "display_name": "Python 3",
   "language": "python",
   "name": "python3"
  },
  "language_info": {
   "codemirror_mode": {
    "name": "ipython",
    "version": 3
   },
   "file_extension": ".py",
   "mimetype": "text/x-python",
   "name": "python",
   "nbconvert_exporter": "python",
   "pygments_lexer": "ipython3",
   "version": "3.5.2"
  }
 },
 "nbformat": 4,
 "nbformat_minor": 1
}
