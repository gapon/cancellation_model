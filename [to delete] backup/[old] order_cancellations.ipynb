{
 "cells": [
  {
   "cell_type": "code",
   "execution_count": 1,
   "metadata": {},
   "outputs": [
    {
     "name": "stdout",
     "output_type": "stream",
     "text": [
      "27949 train samples loaded\n"
     ]
    }
   ],
   "source": [
    "from pandas import read_csv, DataFrame\n",
    "from sklearn.ensemble import GradientBoostingClassifier\n",
    "from sklearn.cross_validation import KFold, cross_val_score\n",
    "from sklearn.metrics import roc_auc_score\n",
    "import numpy as np\n",
    "import time\n",
    "import datetime\n",
    "import pandas as pd\n",
    "\n",
    "features = read_csv('train/3train.csv', header = 0)\n",
    "X = features.drop(['order_id','canceled'], axis=1)\n",
    "y = features['canceled']\n",
    "print('{0} train samples loaded'.format(len(X)))"
   ]
  },
  {
   "cell_type": "markdown",
   "metadata": {},
   "source": [
    "# Parameters Fitting"
   ]
  },
  {
   "cell_type": "code",
   "execution_count": 2,
   "metadata": {},
   "outputs": [
    {
     "name": "stdout",
     "output_type": "stream",
     "text": [
      "\n",
      "Gradient boosting fitting:\n",
      "Trees 10, Time to fit: 0:00:01.709924, ROC-AUC: 0.8695068534367942\n",
      "Trees 20, Time to fit: 0:00:03.352428, ROC-AUC: 0.8771347673025971\n",
      "Trees 30, Time to fit: 0:00:04.197216, ROC-AUC: 0.8807485293279574\n",
      "Trees 40, Time to fit: 0:00:05.201099, ROC-AUC: 0.8841870519608067\n",
      "Trees 50, Time to fit: 0:00:06.533552, ROC-AUC: 0.8866767653693735\n",
      "Trees 100, Time to fit: 0:00:12.779614, ROC-AUC: 0.892327143128616\n",
      "Trees 200, Time to fit: 0:00:24.689046, ROC-AUC: 0.8952788689035687\n",
      "Trees 300, Time to fit: 0:00:37.020866, ROC-AUC: 0.8959723303550309\n"
     ]
    }
   ],
   "source": [
    "folds = 5\n",
    "kf = KFold(len(X), folds, shuffle=True, random_state=42)\n",
    "trees = [10, 20, 30, 40, 50, 100, 200, 300]\n",
    "\n",
    "print()\n",
    "print('Gradient boosting fitting:')\n",
    "\n",
    "for t in trees:\n",
    "    start_time = datetime.datetime.now()\n",
    "    gb_clf = GradientBoostingClassifier(learning_rate=0.1, n_estimators=t, verbose=False, random_state=241)\n",
    "    scores = cross_val_score(gb_clf, X=X, y=y, scoring='roc_auc', cv=kf)\n",
    "    time_to_fit = datetime.datetime.now() - start_time\n",
    "    print('Trees {0}, Time to fit: {1}, ROC-AUC: {2}'.format(t, time_to_fit, scores.mean()))"
   ]
  },
  {
   "cell_type": "markdown",
   "metadata": {},
   "source": [
    "# Train Final Model"
   ]
  },
  {
   "cell_type": "code",
   "execution_count": 3,
   "metadata": {},
   "outputs": [
    {
     "name": "stdout",
     "output_type": "stream",
     "text": [
      "                       features  importance\n",
      "33                 evening_slot    0.000000\n",
      "27                microwave_flg    0.000000\n",
      "11                      ios_flg    0.000000\n",
      "20             refrigerator_flg    0.000000\n",
      "15             subscription_flg    0.000000\n",
      "32                     day_slot    0.000000\n",
      "24         kitchen_cabinets_flg    0.000000\n",
      "25                tableware_flg    0.000274\n",
      "26                balconies_flg    0.000571\n",
      "6                      cash_flg    0.000609\n",
      "31                 morning_slot    0.000730\n",
      "21                     oven_flg    0.001353\n",
      "10                      web_flg    0.001689\n",
      "22                  windows_fls    0.001696\n",
      "5                     bathrooms    0.002154\n",
      "23                  ironing_flg    0.003603\n",
      "30                  weekend_flg    0.004353\n",
      "14                  has_comment    0.006217\n",
      "4                         rooms    0.006284\n",
      "13       has_active_credit_card    0.010454\n",
      "28            keys_delivery_flg    0.012140\n",
      "1                 credits_cents    0.014483\n",
      "2   subscription_discount_cents    0.021242\n",
      "9                     admin_flg    0.022170\n",
      "3      promocode_discount_cents    0.025802\n",
      "12                      hot_flg    0.029570\n",
      "8                      auto_flg    0.035706\n",
      "7               credit_card_flg    0.036027\n",
      "29              additionals_num    0.043246\n",
      "0                   total_cents    0.052915\n",
      "17       paid_orders_num_before    0.091786\n",
      "18            cancelation_share    0.142243\n",
      "19         creation_start_hours    0.194641\n",
      "16   canceled_orders_num_before    0.238039\n"
     ]
    },
    {
     "name": "stderr",
     "output_type": "stream",
     "text": [
      "/Users/gapon/anaconda3/lib/python3.5/site-packages/ipykernel/__main__.py:7: FutureWarning: sort(columns=....) is deprecated, use sort_values(by=.....)\n"
     ]
    }
   ],
   "source": [
    "final_gb_clf = GradientBoostingClassifier(learning_rate=0.1, n_estimators=100, verbose=False, random_state=241)\n",
    "final_gb_clf.fit(X, y)\n",
    "\n",
    "coeff = final_gb_clf.feature_importances_\n",
    "names = X.columns.values\n",
    "df = DataFrame({'features':names, 'importance':coeff})\n",
    "print(df.sort('importance'))"
   ]
  },
  {
   "cell_type": "markdown",
   "metadata": {},
   "source": [
    "# Тест на отложенной выборке"
   ]
  },
  {
   "cell_type": "code",
   "execution_count": 4,
   "metadata": {},
   "outputs": [
    {
     "name": "stdout",
     "output_type": "stream",
     "text": [
      "0.874464243861\n"
     ]
    }
   ],
   "source": [
    "features = read_csv('test/test-old-16-19-may.csv', header = 0)\n",
    "\n",
    "X_test = features.drop(['order_id','canceled'], axis=1)\n",
    "\n",
    "y_true = features['canceled']\n",
    "y_pred = final_gb_clf.predict_proba(X_test)[:,1]\n",
    "\n",
    "\n",
    "print(roc_auc_score(y_true, y_pred))"
   ]
  },
  {
   "cell_type": "markdown",
   "metadata": {},
   "source": [
    "### Bins"
   ]
  },
  {
   "cell_type": "code",
   "execution_count": 7,
   "metadata": {
    "collapsed": true
   },
   "outputs": [],
   "source": [
    "bins = [0.0, 0.1, 0.2, 0.3, 0.4, 0.5, 0.6, 0.7, 0.8, 0.9, 1.0]\n",
    "group_names = ['0-10', '10-20', '20-30', '30-40', '40-50', '50-60', '60-70', '70-80', '80-90', '90-100']\n",
    "\n",
    "categories = pd.cut(y_pred, bins, labels=group_names)\n",
    "\n",
    "df = DataFrame(columns=['y_true', 'y_pred', 'bin'])\n",
    "df['y_true'] = y_true\n",
    "df['y_pred'] = y_pred\n",
    "df['bin'] = categories\n",
    "\n",
    "df.to_csv('bins_old_model.csv')"
   ]
  },
  {
   "cell_type": "markdown",
   "metadata": {},
   "source": [
    "# Prediction"
   ]
  },
  {
   "cell_type": "code",
   "execution_count": 4,
   "metadata": {},
   "outputs": [
    {
     "name": "stdout",
     "output_type": "stream",
     "text": [
      "Output in YYYY-MM-DD.csv\n"
     ]
    }
   ],
   "source": [
    "X_test = read_csv('predict/old_2017-06-30.csv', index_col=[0])\n",
    "\n",
    "df = DataFrame(index=X_test.index, columns=['will_cancel'])\n",
    "df['will_cancel'] = final_gb_clf.predict_proba(X_test)[:,1]\n",
    "df.to_csv('predict/predict-old-2017-06-30.csv')\n",
    "print('Output in YYYY-MM-DD.csv')"
   ]
  },
  {
   "cell_type": "code",
   "execution_count": 16,
   "metadata": {},
   "outputs": [
    {
     "name": "stdout",
     "output_type": "stream",
     "text": [
      "230\n"
     ]
    },
    {
     "name": "stderr",
     "output_type": "stream",
     "text": [
      "/Users/gapon/anaconda3/lib/python3.5/site-packages/ipykernel/__main__.py:7: SettingWithCopyWarning: \n",
      "A value is trying to be set on a copy of a slice from a DataFrame.\n",
      "Try using .loc[row_indexer,col_indexer] = value instead\n",
      "\n",
      "See the caveats in the documentation: http://pandas.pydata.org/pandas-docs/stable/indexing.html#indexing-view-versus-copy\n"
     ]
    }
   ],
   "source": [
    "import pandas as pd\n",
    "df_work = df[df['will_cancel']>=0.5]\n",
    "bins = [0.5, 0.65, 0.80, 1.0]\n",
    "group_names = ['green', 'yellow', 'red']\n",
    "\n",
    "categories = pd.cut(df_work['will_cancel'], bins, labels=group_names)\n",
    "df_work['categories'] = pd.cut(df_work['will_cancel'], bins, labels=group_names)\n",
    "\n",
    "df_work.to_csv('predictions/prediction-2017-05-02.csv')\n",
    "print(len(df_work))"
   ]
  },
  {
   "cell_type": "code",
   "execution_count": null,
   "metadata": {
    "collapsed": true
   },
   "outputs": [],
   "source": []
  }
 ],
 "metadata": {
  "kernelspec": {
   "display_name": "Python 3",
   "language": "python",
   "name": "python3"
  },
  "language_info": {
   "codemirror_mode": {
    "name": "ipython",
    "version": 3
   },
   "file_extension": ".py",
   "mimetype": "text/x-python",
   "name": "python",
   "nbconvert_exporter": "python",
   "pygments_lexer": "ipython3",
   "version": "3.5.2"
  }
 },
 "nbformat": 4,
 "nbformat_minor": 1
}
