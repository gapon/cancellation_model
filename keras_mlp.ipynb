{
 "cells": [
  {
   "cell_type": "code",
   "execution_count": 21,
   "metadata": {},
   "outputs": [
    {
     "name": "stdout",
     "output_type": "stream",
     "text": [
      "51761 train samples loaded\n",
      "(51761, 32)\n"
     ]
    }
   ],
   "source": [
    "import numpy as np\n",
    "import pandas as pd\n",
    "from keras.models import Sequential\n",
    "from keras import regularizers\n",
    "from keras.layers import Dense, Dropout\n",
    "from sklearn.preprocessing import scale\n",
    "from sklearn.metrics import roc_auc_score\n",
    "\n",
    "features = pd.read_csv('train/train_small.csv', header = 0)\n",
    "X = features.drop(['order_id','cancel', 'dow'], axis=1)\n",
    "y = features['cancel']\n",
    "print('{0} train samples loaded'.format(len(X)))\n",
    "print(X.shape)"
   ]
  },
  {
   "cell_type": "code",
   "execution_count": 22,
   "metadata": {
    "collapsed": true
   },
   "outputs": [],
   "source": [
    "def fill_na_mean(df, col_names):\n",
    "    for c in col_names:\n",
    "        df[c] = df[c].fillna(df[c].mean())\n",
    "    return df\n",
    "\n",
    "X = fill_na_mean(X, ['shifts_num', 'dow_paid_share'])\n",
    "X = X.fillna(0)\n",
    "X = scale(X)"
   ]
  },
  {
   "cell_type": "code",
   "execution_count": 37,
   "metadata": {
    "collapsed": true
   },
   "outputs": [],
   "source": [
    "features = pd.read_csv('test/test-20-29-jun.csv', header = 0)\n",
    "\n",
    "X_test = features.drop(['order_id','cancel', 'dow'], axis=1)\n",
    "\n",
    "y_test = features['cancel']\n",
    "\n",
    "X_test = fill_na_mean(X_test, ['shifts_num', 'dow_paid_share'])\n",
    "\n",
    "X_test = X_test.fillna(0)\n",
    "X_test = scale(X_test)\n",
    "\n",
    "#y_pred = model.predict(X_test)"
   ]
  },
  {
   "cell_type": "code",
   "execution_count": 55,
   "metadata": {},
   "outputs": [
    {
     "name": "stdout",
     "output_type": "stream",
     "text": [
      "_________________________________________________________________\n",
      "Layer (type)                 Output Shape              Param #   \n",
      "=================================================================\n",
      "dense_64 (Dense)             (None, 64)                2112      \n",
      "_________________________________________________________________\n",
      "dropout_29 (Dropout)         (None, 64)                0         \n",
      "_________________________________________________________________\n",
      "dense_65 (Dense)             (None, 1)                 65        \n",
      "=================================================================\n",
      "Total params: 2,177\n",
      "Trainable params: 2,177\n",
      "Non-trainable params: 0\n",
      "_________________________________________________________________\n",
      "None\n",
      "Train on 51761 samples, validate on 10742 samples\n",
      "Epoch 1/30\n",
      "51761/51761 [==============================] - 2s - loss: 0.5863 - acc: 0.7003 - val_loss: 0.5399 - val_acc: 0.7366\n",
      "Epoch 2/30\n",
      "51761/51761 [==============================] - 1s - loss: 0.5441 - acc: 0.7342 - val_loss: 0.5281 - val_acc: 0.7446\n",
      "Epoch 3/30\n",
      "51761/51761 [==============================] - 1s - loss: 0.5362 - acc: 0.7383 - val_loss: 0.5236 - val_acc: 0.7460\n",
      "Epoch 4/30\n",
      "51761/51761 [==============================] - 1s - loss: 0.5314 - acc: 0.7413 - val_loss: 0.5198 - val_acc: 0.7490\n",
      "Epoch 5/30\n",
      "51761/51761 [==============================] - 1s - loss: 0.5276 - acc: 0.7439 - val_loss: 0.5184 - val_acc: 0.7491\n",
      "Epoch 6/30\n",
      "51761/51761 [==============================] - 1s - loss: 0.5271 - acc: 0.7440 - val_loss: 0.5166 - val_acc: 0.7509\n",
      "Epoch 7/30\n",
      "51761/51761 [==============================] - 1s - loss: 0.5260 - acc: 0.7455 - val_loss: 0.5137 - val_acc: 0.7516\n",
      "Epoch 8/30\n",
      "51761/51761 [==============================] - 1s - loss: 0.5236 - acc: 0.7468 - val_loss: 0.5128 - val_acc: 0.7528\n",
      "Epoch 9/30\n",
      "51761/51761 [==============================] - 1s - loss: 0.5237 - acc: 0.7465 - val_loss: 0.5138 - val_acc: 0.7525\n",
      "Epoch 10/30\n",
      "51761/51761 [==============================] - 1s - loss: 0.5235 - acc: 0.7445 - val_loss: 0.5112 - val_acc: 0.7533\n",
      "Epoch 11/30\n",
      "51761/51761 [==============================] - 1s - loss: 0.5228 - acc: 0.7474 - val_loss: 0.5113 - val_acc: 0.7561\n",
      "Epoch 12/30\n",
      "51761/51761 [==============================] - 1s - loss: 0.5209 - acc: 0.7484 - val_loss: 0.5112 - val_acc: 0.7533\n",
      "Epoch 13/30\n",
      "51761/51761 [==============================] - 1s - loss: 0.5217 - acc: 0.7476 - val_loss: 0.5116 - val_acc: 0.7540\n",
      "Epoch 14/30\n",
      "51761/51761 [==============================] - 1s - loss: 0.5213 - acc: 0.7466 - val_loss: 0.5103 - val_acc: 0.7570\n",
      "Epoch 15/30\n",
      "51761/51761 [==============================] - 1s - loss: 0.5216 - acc: 0.7482 - val_loss: 0.5099 - val_acc: 0.7576\n",
      "Epoch 16/30\n",
      "51761/51761 [==============================] - 1s - loss: 0.5204 - acc: 0.7486 - val_loss: 0.5106 - val_acc: 0.7554\n",
      "Epoch 17/30\n",
      "51761/51761 [==============================] - 1s - loss: 0.5198 - acc: 0.7479 - val_loss: 0.5095 - val_acc: 0.7585\n",
      "Epoch 18/30\n",
      "51761/51761 [==============================] - 1s - loss: 0.5207 - acc: 0.7490 - val_loss: 0.5081 - val_acc: 0.7548\n",
      "Epoch 19/30\n",
      "51761/51761 [==============================] - 1s - loss: 0.5192 - acc: 0.7476 - val_loss: 0.5093 - val_acc: 0.7569\n",
      "Epoch 20/30\n",
      "51761/51761 [==============================] - 1s - loss: 0.5189 - acc: 0.7496 - val_loss: 0.5100 - val_acc: 0.7570\n",
      "Epoch 21/30\n",
      "51761/51761 [==============================] - 1s - loss: 0.5200 - acc: 0.7496 - val_loss: 0.5090 - val_acc: 0.7565\n",
      "Epoch 22/30\n",
      "51761/51761 [==============================] - 1s - loss: 0.5190 - acc: 0.7487 - val_loss: 0.5084 - val_acc: 0.7572\n",
      "Epoch 23/30\n",
      "51761/51761 [==============================] - 1s - loss: 0.5174 - acc: 0.7493 - val_loss: 0.5088 - val_acc: 0.7540\n",
      "Epoch 24/30\n",
      "51761/51761 [==============================] - 1s - loss: 0.5182 - acc: 0.7497 - val_loss: 0.5082 - val_acc: 0.7561\n",
      "Epoch 25/30\n",
      "51761/51761 [==============================] - 1s - loss: 0.5186 - acc: 0.7495 - val_loss: 0.5070 - val_acc: 0.7565\n",
      "Epoch 26/30\n",
      "51761/51761 [==============================] - 1s - loss: 0.5180 - acc: 0.7484 - val_loss: 0.5064 - val_acc: 0.7565\n",
      "Epoch 27/30\n",
      "51761/51761 [==============================] - 1s - loss: 0.5175 - acc: 0.7507 - val_loss: 0.5064 - val_acc: 0.7567\n",
      "Epoch 28/30\n",
      "51761/51761 [==============================] - 1s - loss: 0.5170 - acc: 0.7520 - val_loss: 0.5075 - val_acc: 0.7547\n",
      "Epoch 29/30\n",
      "51761/51761 [==============================] - 1s - loss: 0.5174 - acc: 0.7513 - val_loss: 0.5068 - val_acc: 0.7557\n",
      "Epoch 30/30\n",
      "51761/51761 [==============================] - 1s - loss: 0.5175 - acc: 0.7498 - val_loss: 0.5060 - val_acc: 0.7563\n"
     ]
    },
    {
     "data": {
      "text/plain": [
       "<keras.callbacks.History at 0x12c80f898>"
      ]
     },
     "execution_count": 55,
     "metadata": {},
     "output_type": "execute_result"
    }
   ],
   "source": [
    "# import keras.backend as K\n",
    "#\n",
    "#def roc_auc(y_true, y_pred):\n",
    "#    score = roc_auc_score(y_true, y_pred)\n",
    "#    return K.abs(score)\n",
    "\n",
    "\n",
    "\n",
    "model = Sequential()\n",
    "#model.add(Dense(64, input_dim=32, W_regularizer=regularizers.l2(0.01), activation='relu'))\n",
    "model.add(Dense(64, input_dim=32, activation='relu'))\n",
    "model.add(Dropout(0.5))\n",
    "#model.add(Dense(64, activation='relu'))\n",
    "#model.add(Dropout(0.5))\n",
    "model.add(Dense(1, activation='sigmoid'))\n",
    "\n",
    "print(model.summary())\n",
    "\n",
    "model.compile(loss='binary_crossentropy',\n",
    "              optimizer='rmsprop',\n",
    "              metrics=['accuracy'])\n",
    "\n",
    "model.fit(X, y,\n",
    "          epochs=30,\n",
    "          batch_size=128,\n",
    "          validation_data=(X_test, y_test))\n",
    "\n",
    "#score = model.evaluate(x_test, y_test, batch_size=128)\n",
    "\n"
   ]
  },
  {
   "cell_type": "code",
   "execution_count": 50,
   "metadata": {},
   "outputs": [
    {
     "name": "stdout",
     "output_type": "stream",
     "text": [
      "Test loss: 0.499437618291\n",
      "Test accuracy: 0.759076522107\n"
     ]
    }
   ],
   "source": [
    "score = model.evaluate(X_test, y_test, verbose=0)\n",
    "print('Test loss:', score[0])\n",
    "print('Test accuracy:', score[1])"
   ]
  },
  {
   "cell_type": "code",
   "execution_count": 57,
   "metadata": {},
   "outputs": [
    {
     "name": "stdout",
     "output_type": "stream",
     "text": [
      "0.813215320039\n"
     ]
    }
   ],
   "source": [
    "features = pd.read_csv('test/test-20-29-jun.csv', header = 0)\n",
    "\n",
    "X_test = features.drop(['order_id','cancel', 'dow'], axis=1)\n",
    "\n",
    "y_true = features['cancel']\n",
    "\n",
    "X_test = fill_na_mean(X_test, ['shifts_num', 'dow_paid_share'])\n",
    "\n",
    "X_test = X_test.fillna(0)\n",
    "X_test = scale(X_test)\n",
    "\n",
    "y_pred = model.predict(X_test)\n",
    "\n",
    "print(roc_auc_score(y_true, y_pred))"
   ]
  }
 ],
 "metadata": {
  "kernelspec": {
   "display_name": "Python 3",
   "language": "python",
   "name": "python3"
  },
  "language_info": {
   "codemirror_mode": {
    "name": "ipython",
    "version": 3
   },
   "file_extension": ".py",
   "mimetype": "text/x-python",
   "name": "python",
   "nbconvert_exporter": "python",
   "pygments_lexer": "ipython3",
   "version": "3.5.2"
  }
 },
 "nbformat": 4,
 "nbformat_minor": 1
}
