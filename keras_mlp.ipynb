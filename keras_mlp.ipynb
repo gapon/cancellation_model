{
 "cells": [
  {
   "cell_type": "code",
   "execution_count": 1,
   "metadata": {},
   "outputs": [
    {
     "name": "stderr",
     "output_type": "stream",
     "text": [
      "Using TensorFlow backend.\n"
     ]
    },
    {
     "name": "stdout",
     "output_type": "stream",
     "text": [
      "51761 train samples loaded\n",
      "(51761, 32)\n"
     ]
    }
   ],
   "source": [
    "import numpy as np\n",
    "import pandas as pd\n",
    "from keras.models import Sequential\n",
    "from keras import regularizers\n",
    "from keras.layers import Dense, Dropout\n",
    "from sklearn.preprocessing import scale\n",
    "from sklearn.metrics import roc_auc_score\n",
    "\n",
    "features = pd.read_csv('train/train_small.csv', header = 0)\n",
    "X = features.drop(['order_id','cancel', 'dow'], axis=1)\n",
    "y = features['cancel']\n",
    "print('{0} train samples loaded'.format(len(X)))\n",
    "print(X.shape)"
   ]
  },
  {
   "cell_type": "code",
   "execution_count": 2,
   "metadata": {
    "collapsed": true
   },
   "outputs": [],
   "source": [
    "def fill_na_mean(df, col_names):\n",
    "    for c in col_names:\n",
    "        df[c] = df[c].fillna(df[c].mean())\n",
    "    return df\n",
    "\n",
    "X = fill_na_mean(X, ['shifts_num', 'dow_paid_share'])\n",
    "X = X.fillna(0)\n",
    "X = scale(X)"
   ]
  },
  {
   "cell_type": "code",
   "execution_count": 3,
   "metadata": {
    "collapsed": true
   },
   "outputs": [],
   "source": [
    "features = pd.read_csv('test/test-20-29-jun.csv', header = 0)\n",
    "\n",
    "X_test = features.drop(['order_id','cancel', 'dow'], axis=1)\n",
    "y_test = features['cancel']\n",
    "X_test = fill_na_mean(X_test, ['shifts_num', 'dow_paid_share'])\n",
    "X_test = X_test.fillna(0)\n",
    "X_test = scale(X_test)\n",
    "\n",
    "#y_pred = model.predict(X_test)"
   ]
  },
  {
   "cell_type": "code",
   "execution_count": 4,
   "metadata": {},
   "outputs": [
    {
     "name": "stderr",
     "output_type": "stream",
     "text": [
      "/Users/gapon/anaconda3/lib/python3.5/site-packages/ipykernel/__main__.py:10: UserWarning: Update your `Dense` call to the Keras 2 API: `Dense(64, activation=\"relu\", input_dim=32, kernel_regularizer=<keras.reg...)`\n"
     ]
    },
    {
     "name": "stdout",
     "output_type": "stream",
     "text": [
      "_________________________________________________________________\n",
      "Layer (type)                 Output Shape              Param #   \n",
      "=================================================================\n",
      "dense_1 (Dense)              (None, 64)                2112      \n",
      "_________________________________________________________________\n",
      "dense_2 (Dense)              (None, 64)                4160      \n",
      "_________________________________________________________________\n",
      "dense_3 (Dense)              (None, 1)                 65        \n",
      "=================================================================\n",
      "Total params: 6,337\n",
      "Trainable params: 6,337\n",
      "Non-trainable params: 0\n",
      "_________________________________________________________________\n",
      "None\n",
      "Train on 51761 samples, validate on 10742 samples\n",
      "Epoch 1/30\n",
      "51761/51761 [==============================] - 2s - loss: 0.6654 - acc: 0.7343 - val_loss: 0.5568 - val_acc: 0.7443\n",
      "Epoch 2/30\n",
      "51761/51761 [==============================] - 1s - loss: 0.5412 - acc: 0.7467 - val_loss: 0.5314 - val_acc: 0.7466\n",
      "Epoch 3/30\n",
      "51761/51761 [==============================] - 1s - loss: 0.5291 - acc: 0.7476 - val_loss: 0.5213 - val_acc: 0.7570\n",
      "Epoch 4/30\n",
      "51761/51761 [==============================] - 1s - loss: 0.5249 - acc: 0.7499 - val_loss: 0.5276 - val_acc: 0.7510\n",
      "Epoch 5/30\n",
      "51761/51761 [==============================] - 1s - loss: 0.5225 - acc: 0.7508 - val_loss: 0.5194 - val_acc: 0.7552\n",
      "Epoch 6/30\n",
      "51761/51761 [==============================] - 1s - loss: 0.5211 - acc: 0.7510 - val_loss: 0.5180 - val_acc: 0.7537\n",
      "Epoch 7/30\n",
      "51761/51761 [==============================] - 1s - loss: 0.5202 - acc: 0.7519 - val_loss: 0.5189 - val_acc: 0.7547\n",
      "Epoch 8/30\n",
      "51761/51761 [==============================] - 1s - loss: 0.5191 - acc: 0.7517 - val_loss: 0.5182 - val_acc: 0.7547\n",
      "Epoch 9/30\n",
      "51761/51761 [==============================] - 1s - loss: 0.5183 - acc: 0.7518 - val_loss: 0.5178 - val_acc: 0.7543\n",
      "Epoch 10/30\n",
      "51761/51761 [==============================] - 1s - loss: 0.5180 - acc: 0.7536 - val_loss: 0.5217 - val_acc: 0.7499\n",
      "Epoch 11/30\n",
      "51761/51761 [==============================] - 1s - loss: 0.5172 - acc: 0.7540 - val_loss: 0.5167 - val_acc: 0.7562\n",
      "Epoch 12/30\n",
      "51761/51761 [==============================] - 1s - loss: 0.5167 - acc: 0.7540 - val_loss: 0.5186 - val_acc: 0.7521\n",
      "Epoch 13/30\n",
      "51761/51761 [==============================] - 2s - loss: 0.5166 - acc: 0.7537 - val_loss: 0.5128 - val_acc: 0.7622\n",
      "Epoch 14/30\n",
      "51761/51761 [==============================] - 1s - loss: 0.5156 - acc: 0.7542 - val_loss: 0.5136 - val_acc: 0.7598\n",
      "Epoch 15/30\n",
      "51761/51761 [==============================] - 1s - loss: 0.5153 - acc: 0.7555 - val_loss: 0.5155 - val_acc: 0.7565\n",
      "Epoch 16/30\n",
      "51761/51761 [==============================] - 1s - loss: 0.5148 - acc: 0.7551 - val_loss: 0.5144 - val_acc: 0.7585\n",
      "Epoch 17/30\n",
      "51761/51761 [==============================] - 1s - loss: 0.5147 - acc: 0.7544 - val_loss: 0.5193 - val_acc: 0.7474\n",
      "Epoch 18/30\n",
      "51761/51761 [==============================] - 1s - loss: 0.5143 - acc: 0.7558 - val_loss: 0.5119 - val_acc: 0.7589\n",
      "Epoch 19/30\n",
      "51761/51761 [==============================] - 1s - loss: 0.5147 - acc: 0.7555 - val_loss: 0.5245 - val_acc: 0.7487\n",
      "Epoch 20/30\n",
      "51761/51761 [==============================] - 1s - loss: 0.5145 - acc: 0.7557 - val_loss: 0.5142 - val_acc: 0.7594\n",
      "Epoch 21/30\n",
      "51761/51761 [==============================] - 1s - loss: 0.5138 - acc: 0.7559 - val_loss: 0.5136 - val_acc: 0.7548\n",
      "Epoch 22/30\n",
      "51761/51761 [==============================] - 1s - loss: 0.5132 - acc: 0.7563 - val_loss: 0.5159 - val_acc: 0.7567\n",
      "Epoch 23/30\n",
      "51761/51761 [==============================] - 1s - loss: 0.5136 - acc: 0.7552 - val_loss: 0.5156 - val_acc: 0.7554\n",
      "Epoch 24/30\n",
      "51761/51761 [==============================] - 1s - loss: 0.5130 - acc: 0.7549 - val_loss: 0.5138 - val_acc: 0.7593\n",
      "Epoch 25/30\n",
      "51761/51761 [==============================] - 1s - loss: 0.5129 - acc: 0.7558 - val_loss: 0.5096 - val_acc: 0.7604\n",
      "Epoch 26/30\n",
      "51761/51761 [==============================] - 1s - loss: 0.5124 - acc: 0.7572 - val_loss: 0.5156 - val_acc: 0.7569\n",
      "Epoch 27/30\n",
      "51761/51761 [==============================] - 1s - loss: 0.5122 - acc: 0.7578 - val_loss: 0.5111 - val_acc: 0.7582\n",
      "Epoch 28/30\n",
      "51761/51761 [==============================] - 1s - loss: 0.5119 - acc: 0.7558 - val_loss: 0.5140 - val_acc: 0.7593\n",
      "Epoch 29/30\n",
      "51761/51761 [==============================] - 1s - loss: 0.5125 - acc: 0.7568 - val_loss: 0.5162 - val_acc: 0.7595\n",
      "Epoch 30/30\n",
      "51761/51761 [==============================] - 1s - loss: 0.5117 - acc: 0.7572 - val_loss: 0.5137 - val_acc: 0.7635\n"
     ]
    },
    {
     "data": {
      "text/plain": [
       "<keras.callbacks.History at 0x11bc6ec18>"
      ]
     },
     "execution_count": 4,
     "metadata": {},
     "output_type": "execute_result"
    }
   ],
   "source": [
    "# import keras.backend as K\n",
    "#\n",
    "#def roc_auc(y_true, y_pred):\n",
    "#    score = roc_auc_score(y_true, y_pred)\n",
    "#    return K.abs(score)\n",
    "\n",
    "\n",
    "\n",
    "model = Sequential()\n",
    "model.add(Dense(64, input_dim=32, W_regularizer=regularizers.l2(0.01), activation='relu'))\n",
    "# model.add(Dense(64, input_dim=32, activation='relu'))\n",
    "# model.add(Dropout(0.5))\n",
    "model.add(Dense(64, activation='relu'))\n",
    "# model.add(Dropout(0.5))\n",
    "model.add(Dense(1, activation='sigmoid'))\n",
    "\n",
    "print(model.summary())\n",
    "\n",
    "model.compile(loss='binary_crossentropy',\n",
    "              optimizer='rmsprop',\n",
    "              metrics=['accuracy'])\n",
    "\n",
    "model.fit(X, y,\n",
    "          epochs=30,\n",
    "          batch_size=128,\n",
    "          validation_data=(X_test, y_test))\n",
    "\n",
    "#score = model.evaluate(x_test, y_test, batch_size=128)\n",
    "\n"
   ]
  },
  {
   "cell_type": "code",
   "execution_count": 50,
   "metadata": {},
   "outputs": [
    {
     "name": "stdout",
     "output_type": "stream",
     "text": [
      "Test loss: 0.499437618291\n",
      "Test accuracy: 0.759076522107\n"
     ]
    }
   ],
   "source": [
    "score = model.evaluate(X_test, y_test, verbose=0)\n",
    "print('Test loss:', score[0])\n",
    "print('Test accuracy:', score[1])"
   ]
  },
  {
   "cell_type": "code",
   "execution_count": 57,
   "metadata": {},
   "outputs": [
    {
     "name": "stdout",
     "output_type": "stream",
     "text": [
      "0.813215320039\n"
     ]
    }
   ],
   "source": [
    "features = pd.read_csv('test/test-20-29-jun.csv', header = 0)\n",
    "\n",
    "X_test = features.drop(['order_id','cancel', 'dow'], axis=1)\n",
    "\n",
    "y_true = features['cancel']\n",
    "\n",
    "X_test = fill_na_mean(X_test, ['shifts_num', 'dow_paid_share'])\n",
    "\n",
    "X_test = X_test.fillna(0)\n",
    "X_test = scale(X_test)\n",
    "\n",
    "y_pred = model.predict(X_test)\n",
    "\n",
    "print(roc_auc_score(y_true, y_pred))"
   ]
  }
 ],
 "metadata": {
  "kernelspec": {
   "display_name": "Python 3",
   "language": "python",
   "name": "python3"
  },
  "language_info": {
   "codemirror_mode": {
    "name": "ipython",
    "version": 3
   },
   "file_extension": ".py",
   "mimetype": "text/x-python",
   "name": "python",
   "nbconvert_exporter": "python",
   "pygments_lexer": "ipython3",
   "version": "3.5.2"
  }
 },
 "nbformat": 4,
 "nbformat_minor": 1
}
